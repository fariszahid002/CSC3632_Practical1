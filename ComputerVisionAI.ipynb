{
  "nbformat": 4,
  "nbformat_minor": 0,
  "metadata": {
    "colab": {
      "provenance": [],
      "gpuType": "T4",
      "authorship_tag": "ABX9TyNGIU+GBEVGG6bjeuZJGsQ0",
      "include_colab_link": true
    },
    "kernelspec": {
      "name": "python3",
      "display_name": "Python 3"
    },
    "language_info": {
      "name": "python"
    },
    "accelerator": "GPU"
  },
  "cells": [
    {
      "cell_type": "markdown",
      "metadata": {
        "id": "view-in-github",
        "colab_type": "text"
      },
      "source": [
        "<a href=\"https://colab.research.google.com/github/fariszahid002/CSC3632_Practical1/blob/main/ComputerVisionAI.ipynb\" target=\"_parent\"><img src=\"https://colab.research.google.com/assets/colab-badge.svg\" alt=\"Open In Colab\"/></a>"
      ]
    },
    {
      "cell_type": "markdown",
      "source": [
        "# Part 3: Computer Vision and Artificial Intelligence Coursework\n",
        "\n",
        "Main tasks: Implement a Convolutional Neural Network (CNN) on the CIFAR-10 dataset and solve the following three problems using pytorch."
      ],
      "metadata": {
        "id": "HRVkUvJMs3oJ"
      }
    },
    {
      "cell_type": "markdown",
      "source": [
        "### Importing Necessary Libraries"
      ],
      "metadata": {
        "id": "2zhT_lMKK1AQ"
      }
    },
    {
      "cell_type": "code",
      "source": [
        "import torch\n",
        "import torchvision\n",
        "import torch.nn as nn\n",
        "import torch.nn.functional as F\n",
        "from torch.utils.data import DataLoader\n",
        "from torchvision import datasets, transforms\n",
        "import numpy as np\n",
        "import matplotlib.pyplot as plt"
      ],
      "metadata": {
        "id": "3IvZCd59K0pB"
      },
      "execution_count": 26,
      "outputs": []
    },
    {
      "cell_type": "markdown",
      "source": [
        "### Set to use GPU (if available)"
      ],
      "metadata": {
        "id": "Lkqzpev7OJ-x"
      }
    },
    {
      "cell_type": "code",
      "source": [
        "if torch.cuda.is_available():\n",
        "    print('Using GPU, device name:', torch.cuda.get_device_name(0))\n",
        "    device = torch.device('cuda')\n",
        "else:\n",
        "    print('No GPU found, using CPU instead.')\n",
        "    device = torch.device('cpu')"
      ],
      "metadata": {
        "colab": {
          "base_uri": "https://localhost:8080/"
        },
        "id": "4W8sR0SnODlk",
        "outputId": "9d2aa37c-1651-488c-a819-337c7e6fd145"
      },
      "execution_count": 27,
      "outputs": [
        {
          "output_type": "stream",
          "name": "stdout",
          "text": [
            "Using GPU, device name: Tesla T4\n"
          ]
        }
      ]
    },
    {
      "cell_type": "markdown",
      "source": [
        "## Setting Up"
      ],
      "metadata": {
        "id": "tCpcVUs0Qk5n"
      }
    },
    {
      "cell_type": "markdown",
      "source": [
        "### Load CIFAR-10 Dataset"
      ],
      "metadata": {
        "id": "Udce4nGwMbjP"
      }
    },
    {
      "cell_type": "code",
      "source": [
        "# Define transformations for the dataset\n",
        "transform = transforms.Compose([\n",
        "    transforms.ToTensor(),  # Convert to tensor\n",
        "    transforms.Normalize((0.5, 0.5, 0.5), (0.5, 0.5, 0.5))  # Normalize images to [-1, 1]\n",
        "])\n",
        "\n",
        "# Download and load the CIFAR-10 dataset\n",
        "train_dataset = datasets.CIFAR10(root='./data', train=True, download=True, transform=transform)\n",
        "test_dataset = datasets.CIFAR10(root='./data', train=False, download=True, transform=transform)\n",
        "\n",
        "# Check the dataset size and classes\n",
        "train_size = len(train_dataset)\n",
        "test_size = len(test_dataset)\n",
        "classes = train_dataset.classes\n",
        "\n",
        "# Output the details\n",
        "print(f\"Training Dataset Size: {train_size}\")\n",
        "print(f\"Test Dataset Size: {test_size}\")\n",
        "print(f\"Classes: {classes}\")"
      ],
      "metadata": {
        "colab": {
          "base_uri": "https://localhost:8080/"
        },
        "id": "85x2e-ntLl8Z",
        "outputId": "ff3c37cd-0e69-4229-fa36-4a3891520fcd"
      },
      "execution_count": 28,
      "outputs": [
        {
          "output_type": "stream",
          "name": "stdout",
          "text": [
            "Files already downloaded and verified\n",
            "Files already downloaded and verified\n",
            "Training Dataset Size: 50000\n",
            "Test Dataset Size: 10000\n",
            "Classes: ['airplane', 'automobile', 'bird', 'cat', 'deer', 'dog', 'frog', 'horse', 'ship', 'truck']\n"
          ]
        }
      ]
    },
    {
      "cell_type": "markdown",
      "source": [
        "### Splitting Data into Training, Validation and Test Sets"
      ],
      "metadata": {
        "id": "bdGuKk_GlFFb"
      }
    },
    {
      "cell_type": "code",
      "source": [
        "from torch.utils.data import random_split, DataLoader\n",
        "\n",
        "# Define the train-validation split\n",
        "val_split = 5000  # Use 5000 samples for validation\n",
        "train_split = len(train_dataset) - val_split\n",
        "\n",
        "train_data, val_data = random_split(train_dataset, [train_split, val_split])\n",
        "\n",
        "# Create data loaders\n",
        "batch_size = 128\n",
        "train_loader = DataLoader(train_data, batch_size=batch_size, shuffle=True)\n",
        "val_loader = DataLoader(val_data, batch_size=batch_size, shuffle=False)\n",
        "test_loader = DataLoader(test_dataset, batch_size=batch_size, shuffle=False)\n",
        "\n",
        "len(train_data), len(val_data), len(test_dataset)\n"
      ],
      "metadata": {
        "colab": {
          "base_uri": "https://localhost:8080/"
        },
        "id": "e-dslwH6kejr",
        "outputId": "d2415aaf-fc08-44f8-b88b-21b0bea3bf6c"
      },
      "execution_count": 29,
      "outputs": [
        {
          "output_type": "execute_result",
          "data": {
            "text/plain": [
              "(45000, 5000, 10000)"
            ]
          },
          "metadata": {},
          "execution_count": 29
        }
      ]
    },
    {
      "cell_type": "markdown",
      "source": [
        "### Define the CNN Architecture (Without Batch Normalization)\n",
        "- 3 Convolutional Layers\n",
        "- 3 Fully Connected Layers"
      ],
      "metadata": {
        "id": "CAmBdqkfSzOW"
      }
    },
    {
      "cell_type": "code",
      "source": [
        "import torch.nn as nn\n",
        "import torch.nn.functional as F\n",
        "\n",
        "class ConvNet(nn.Module):\n",
        "    def __init__(self, imgHeight, imgWidth, categories):\n",
        "        super().__init__()\n",
        "        # Convolutional Layers with MaxPooling in between\n",
        "        self.conv1 = nn.Conv2d(in_channels=3, out_channels=64, kernel_size=3, padding=1)  # Conv Layer 1\n",
        "        self.pool1 = nn.MaxPool2d(kernel_size=2, stride=2)  # Pooling Layer 1\n",
        "        self.dropout1 = nn.Dropout(0.25)\n",
        "\n",
        "        self.conv2 = nn.Conv2d(in_channels=64, out_channels=128, kernel_size=3, padding=1)  # Conv Layer 2\n",
        "        self.pool2 = nn.MaxPool2d(kernel_size=2, stride=2)  # Pooling Layer 2\n",
        "        self.dropout2 = nn.Dropout(0.25)\n",
        "\n",
        "        self.conv3 = nn.Conv2d(in_channels=128, out_channels=256, kernel_size=3, padding=1)  # Conv Layer 3\n",
        "        self.pool3 = nn.MaxPool2d(kernel_size=2, stride=2)  # Pooling Layer 3\n",
        "        self.dropout3 = nn.Dropout(0.25)\n",
        "\n",
        "        # Fully Connected Layers\n",
        "        self.fc1 = nn.Linear(256 * (imgHeight // 8) * (imgWidth // 8), 256)  # Fixed input size\n",
        "        self.dropout_fc1 = nn.Dropout(0.25)\n",
        "        self.fc2 = nn.Linear(256, 128)\n",
        "        self.dropout_fc2 = nn.Dropout(0.25)\n",
        "        self.fc3 = nn.Linear(128, categories)\n",
        "        self.dropout_fc3 = nn.Dropout(0.25)\n",
        "\n",
        "    def forward(self, x):\n",
        "        # Convolutional and Pooling Layers\n",
        "        x = self.pool1(F.relu(self.conv1(x)))  # Conv1 -> Pool1\n",
        "        x = self.dropout1(x)\n",
        "        x = self.pool2(F.relu(self.conv2(x)))  # Conv2 -> Pool2\n",
        "        x = self.dropout2(x)\n",
        "        x = self.pool3(F.relu(self.conv3(x)))  # Conv3 -> Pool3\n",
        "        x = self.dropout3(x)\n",
        "\n",
        "        # Flatten Layer\n",
        "        x = torch.flatten(x, 1)  # Flatten all dimensions except batch\n",
        "\n",
        "        # Fully Connected Layers\n",
        "        x = F.relu(self.fc1(x))  # FC1\n",
        "        x = self.dropout_fc1(x)\n",
        "        x = F.relu(self.fc2(x))  # FC2\n",
        "        x = self.dropout_fc2(x)\n",
        "        x = self.fc3(x)  # FC3 (Output Layer)\n",
        "\n",
        "        return x\n",
        "\n",
        "\n",
        "# Parameters for CIFAR-10\n",
        "imgHeight, imgWidth, categories = 32, 32, 10\n",
        "\n",
        "# Instantiate the Model\n",
        "model = ConvNet(imgHeight, imgWidth, categories).to(device)\n",
        "print(model)\n"
      ],
      "metadata": {
        "colab": {
          "base_uri": "https://localhost:8080/"
        },
        "id": "dFgcqinyMs3i",
        "outputId": "2ebcfcff-2558-4e85-dc0f-772718502b5c"
      },
      "execution_count": 30,
      "outputs": [
        {
          "output_type": "stream",
          "name": "stdout",
          "text": [
            "ConvNet(\n",
            "  (conv1): Conv2d(3, 64, kernel_size=(3, 3), stride=(1, 1), padding=(1, 1))\n",
            "  (pool1): MaxPool2d(kernel_size=2, stride=2, padding=0, dilation=1, ceil_mode=False)\n",
            "  (dropout1): Dropout(p=0.25, inplace=False)\n",
            "  (conv2): Conv2d(64, 128, kernel_size=(3, 3), stride=(1, 1), padding=(1, 1))\n",
            "  (pool2): MaxPool2d(kernel_size=2, stride=2, padding=0, dilation=1, ceil_mode=False)\n",
            "  (dropout2): Dropout(p=0.25, inplace=False)\n",
            "  (conv3): Conv2d(128, 256, kernel_size=(3, 3), stride=(1, 1), padding=(1, 1))\n",
            "  (pool3): MaxPool2d(kernel_size=2, stride=2, padding=0, dilation=1, ceil_mode=False)\n",
            "  (dropout3): Dropout(p=0.25, inplace=False)\n",
            "  (fc1): Linear(in_features=4096, out_features=256, bias=True)\n",
            "  (dropout_fc1): Dropout(p=0.25, inplace=False)\n",
            "  (fc2): Linear(in_features=256, out_features=128, bias=True)\n",
            "  (dropout_fc2): Dropout(p=0.25, inplace=False)\n",
            "  (fc3): Linear(in_features=128, out_features=10, bias=True)\n",
            "  (dropout_fc3): Dropout(p=0.25, inplace=False)\n",
            ")\n"
          ]
        }
      ]
    },
    {
      "cell_type": "markdown",
      "source": [
        "### Testing Initial Performance Before Training"
      ],
      "metadata": {
        "id": "0bpQK6pxmnoo"
      }
    },
    {
      "cell_type": "code",
      "source": [
        "# Define the evaluation function\n",
        "def evaluate(model, val_loader, loss_fun):\n",
        "    model.eval()  # Set the model to evaluation mode\n",
        "    val_loss = 0\n",
        "    correct = 0\n",
        "    total = 0\n",
        "\n",
        "    with torch.no_grad():  # Disable gradient calculations for evaluation\n",
        "        for inputs, targets in val_loader:\n",
        "            inputs, targets = inputs.to(device), targets.to(device)\n",
        "            outputs = model(inputs)\n",
        "            loss = loss_fun(outputs, targets)\n",
        "\n",
        "            val_loss += loss.item()\n",
        "            _, predicted = torch.max(outputs, 1)\n",
        "            total += targets.size(0)\n",
        "            correct += (predicted == targets).sum().item()\n",
        "\n",
        "    val_loss /= len(val_loader)\n",
        "    val_acc = correct / total\n",
        "    return {'val_loss': val_loss, 'val_acc': val_acc}\n",
        "\n",
        "# Instantiate the model\n",
        "model = ConvNet(imgHeight=32, imgWidth=32, categories=10).to(device)\n",
        "\n",
        "# Define loss function (criterion)\n",
        "loss_fun = nn.CrossEntropyLoss()\n",
        "\n",
        "# Evaluate the model on the validation set\n",
        "initial_eval = evaluate(model, val_loader, loss_fun)\n",
        "print(f\"Initial Validation Loss: {initial_eval['val_loss']:.4f}\")\n",
        "print(f\"Initial Validation Accuracy: {initial_eval['val_acc']:.4f}\")"
      ],
      "metadata": {
        "colab": {
          "base_uri": "https://localhost:8080/"
        },
        "id": "cVHR-mYzlVYE",
        "outputId": "697eb1db-92c9-4beb-f367-fd4b1b8a6264"
      },
      "execution_count": 31,
      "outputs": [
        {
          "output_type": "stream",
          "name": "stdout",
          "text": [
            "Initial Validation Loss: 2.3041\n",
            "Initial Validation Accuracy: 0.1200\n"
          ]
        }
      ]
    },
    {
      "cell_type": "markdown",
      "source": [
        "## Question 1: Training Without Batch Normalization"
      ],
      "metadata": {
        "id": "8B6ANZcGM1w8"
      }
    },
    {
      "cell_type": "code",
      "source": [
        "import torch.optim as optim\n",
        "\n",
        "# Hyperparameters\n",
        "learning_rate = 0.001\n",
        "num_epochs = 50\n",
        "patience = 10  # Early stopping patience\n",
        "loss_fun = nn.CrossEntropyLoss()\n",
        "optimizer = torch.optim.Adam(model.parameters(), lr=0.001, weight_decay=1e-4)\n",
        "\n",
        "\n",
        "# Function to calculate correct predictions\n",
        "def correct(output, target):\n",
        "    pred = output.argmax(dim=1)\n",
        "    correct_pred = (pred == target).type(torch.float)\n",
        "    return correct_pred.sum().item()\n",
        "\n",
        "# Training function with validation monitoring and early stopping\n",
        "def train_with_validation(train_loader, val_loader, model, loss_fun, optimizer, num_epochs):\n",
        "    train_loss_history, train_acc_history = [], []\n",
        "    val_loss_history, val_acc_history = [], []\n",
        "\n",
        "    # Early stopping variables\n",
        "    best_val_loss = float('inf')  # Best validation loss starts at infinity\n",
        "    best_model_state = None       # Best model state\n",
        "    patience_counter = 0          # Counter for patience\n",
        "\n",
        "    for epoch in range(num_epochs):\n",
        "        # Training phase\n",
        "        model.train()\n",
        "        total_loss = 0\n",
        "        total_correct = 0\n",
        "        total_samples = 0\n",
        "\n",
        "        for data, target in train_loader:\n",
        "            data, target = data.to(device), target.to(device)\n",
        "\n",
        "            # Forward pass\n",
        "            output = model(data)\n",
        "            loss = loss_fun(output, target)\n",
        "            total_loss += loss.item()\n",
        "\n",
        "            # Calculate correct predictions\n",
        "            total_correct += correct(output, target)\n",
        "            total_samples += target.size(0)\n",
        "\n",
        "            # Backpropagation\n",
        "            optimizer.zero_grad()\n",
        "            loss.backward()\n",
        "            optimizer.step()\n",
        "\n",
        "        # Training metrics\n",
        "        train_loss = total_loss / len(train_loader)\n",
        "        train_acc = total_correct / total_samples\n",
        "        train_loss_history.append(train_loss)\n",
        "        train_acc_history.append(train_acc)\n",
        "\n",
        "        # Validation phase\n",
        "        val_metrics = evaluate(model, val_loader, loss_fun)\n",
        "        val_loss = val_metrics['val_loss']\n",
        "        val_acc = val_metrics['val_acc']\n",
        "        val_loss_history.append(val_loss)\n",
        "        val_acc_history.append(val_acc)\n",
        "\n",
        "        # Check if validation loss improved\n",
        "        if val_loss < best_val_loss:\n",
        "            best_val_loss = val_loss\n",
        "            best_model_state = model.state_dict()  # Save the best model state\n",
        "            patience_counter = 0  # Reset patience counter\n",
        "            print(f\"Validation loss improved to {val_loss:.4f}, saving model...\")\n",
        "        else:\n",
        "            patience_counter += 1\n",
        "            print(f\"No improvement in validation loss. Patience counter: {patience_counter}/{patience}\")\n",
        "\n",
        "        # Check early stopping condition\n",
        "        if patience_counter >= patience:\n",
        "            print(\"Early stopping triggered.\")\n",
        "            break\n",
        "\n",
        "        # Print progress\n",
        "        print(f\"Epoch {epoch+1}/{num_epochs}, \"\n",
        "              f\"Train Loss: {train_loss:.4f}, Train Accuracy: {train_acc:.4f}, \"\n",
        "              f\"Validation Loss: {val_loss:.4f}, Validation Accuracy: {val_acc:.4f}\")\n",
        "\n",
        "    # Save the best model\n",
        "    if best_model_state is not None:\n",
        "        torch.save(best_model_state, \"best_model.pth\")\n",
        "        print(\"Best model saved as 'best_model.pth'.\")\n",
        "\n",
        "    return train_loss_history, train_acc_history, val_loss_history, val_acc_history\n",
        "\n",
        "# Call the training function\n",
        "train_loss_history, train_acc_history, val_loss_history, val_acc_history = train_with_validation(\n",
        "    train_loader=train_loader,\n",
        "    val_loader=val_loader,\n",
        "    model=model,\n",
        "    loss_fun=loss_fun,\n",
        "    optimizer=optimizer,\n",
        "    num_epochs=num_epochs\n",
        ")\n"
      ],
      "metadata": {
        "colab": {
          "base_uri": "https://localhost:8080/"
        },
        "id": "NjFXUCDVyWXL",
        "outputId": "423203d0-67bb-455c-9eab-b06f66c80836"
      },
      "execution_count": 32,
      "outputs": [
        {
          "output_type": "stream",
          "name": "stdout",
          "text": [
            "Validation loss improved to 1.2952, saving model...\n",
            "Epoch 1/50, Train Loss: 1.6327, Train Accuracy: 0.3972, Validation Loss: 1.2952, Validation Accuracy: 0.5344\n",
            "Validation loss improved to 1.0438, saving model...\n",
            "Epoch 2/50, Train Loss: 1.2414, Train Accuracy: 0.5528, Validation Loss: 1.0438, Validation Accuracy: 0.6314\n",
            "Validation loss improved to 0.9497, saving model...\n",
            "Epoch 3/50, Train Loss: 1.0556, Train Accuracy: 0.6265, Validation Loss: 0.9497, Validation Accuracy: 0.6696\n",
            "Validation loss improved to 0.8153, saving model...\n",
            "Epoch 4/50, Train Loss: 0.9341, Train Accuracy: 0.6723, Validation Loss: 0.8153, Validation Accuracy: 0.7108\n",
            "Validation loss improved to 0.7511, saving model...\n",
            "Epoch 5/50, Train Loss: 0.8504, Train Accuracy: 0.7067, Validation Loss: 0.7511, Validation Accuracy: 0.7408\n",
            "No improvement in validation loss. Patience counter: 1/10\n",
            "Epoch 6/50, Train Loss: 0.7840, Train Accuracy: 0.7283, Validation Loss: 0.7521, Validation Accuracy: 0.7340\n",
            "Validation loss improved to 0.6950, saving model...\n",
            "Epoch 7/50, Train Loss: 0.7338, Train Accuracy: 0.7448, Validation Loss: 0.6950, Validation Accuracy: 0.7542\n",
            "Validation loss improved to 0.6742, saving model...\n",
            "Epoch 8/50, Train Loss: 0.6859, Train Accuracy: 0.7626, Validation Loss: 0.6742, Validation Accuracy: 0.7640\n",
            "Validation loss improved to 0.6556, saving model...\n",
            "Epoch 9/50, Train Loss: 0.6588, Train Accuracy: 0.7705, Validation Loss: 0.6556, Validation Accuracy: 0.7736\n",
            "Validation loss improved to 0.6512, saving model...\n",
            "Epoch 10/50, Train Loss: 0.6211, Train Accuracy: 0.7849, Validation Loss: 0.6512, Validation Accuracy: 0.7706\n",
            "Validation loss improved to 0.6258, saving model...\n",
            "Epoch 11/50, Train Loss: 0.6033, Train Accuracy: 0.7921, Validation Loss: 0.6258, Validation Accuracy: 0.7774\n",
            "No improvement in validation loss. Patience counter: 1/10\n",
            "Epoch 12/50, Train Loss: 0.5763, Train Accuracy: 0.8000, Validation Loss: 0.6398, Validation Accuracy: 0.7752\n",
            "Validation loss improved to 0.6122, saving model...\n",
            "Epoch 13/50, Train Loss: 0.5594, Train Accuracy: 0.8056, Validation Loss: 0.6122, Validation Accuracy: 0.7900\n",
            "Validation loss improved to 0.6064, saving model...\n",
            "Epoch 14/50, Train Loss: 0.5371, Train Accuracy: 0.8109, Validation Loss: 0.6064, Validation Accuracy: 0.7912\n",
            "Validation loss improved to 0.5818, saving model...\n",
            "Epoch 15/50, Train Loss: 0.5230, Train Accuracy: 0.8179, Validation Loss: 0.5818, Validation Accuracy: 0.7966\n",
            "No improvement in validation loss. Patience counter: 1/10\n",
            "Epoch 16/50, Train Loss: 0.5005, Train Accuracy: 0.8231, Validation Loss: 0.6087, Validation Accuracy: 0.7950\n",
            "No improvement in validation loss. Patience counter: 2/10\n",
            "Epoch 17/50, Train Loss: 0.4873, Train Accuracy: 0.8294, Validation Loss: 0.6061, Validation Accuracy: 0.7950\n",
            "No improvement in validation loss. Patience counter: 3/10\n",
            "Epoch 18/50, Train Loss: 0.4740, Train Accuracy: 0.8341, Validation Loss: 0.6065, Validation Accuracy: 0.7942\n",
            "No improvement in validation loss. Patience counter: 4/10\n",
            "Epoch 19/50, Train Loss: 0.4724, Train Accuracy: 0.8333, Validation Loss: 0.6129, Validation Accuracy: 0.7980\n",
            "Validation loss improved to 0.5741, saving model...\n",
            "Epoch 20/50, Train Loss: 0.4536, Train Accuracy: 0.8394, Validation Loss: 0.5741, Validation Accuracy: 0.8102\n",
            "No improvement in validation loss. Patience counter: 1/10\n",
            "Epoch 21/50, Train Loss: 0.4485, Train Accuracy: 0.8412, Validation Loss: 0.5896, Validation Accuracy: 0.8022\n",
            "Validation loss improved to 0.5583, saving model...\n",
            "Epoch 22/50, Train Loss: 0.4386, Train Accuracy: 0.8469, Validation Loss: 0.5583, Validation Accuracy: 0.8080\n",
            "No improvement in validation loss. Patience counter: 1/10\n",
            "Epoch 23/50, Train Loss: 0.4233, Train Accuracy: 0.8528, Validation Loss: 0.5953, Validation Accuracy: 0.8056\n",
            "No improvement in validation loss. Patience counter: 2/10\n",
            "Epoch 24/50, Train Loss: 0.4110, Train Accuracy: 0.8560, Validation Loss: 0.5732, Validation Accuracy: 0.8116\n",
            "No improvement in validation loss. Patience counter: 3/10\n",
            "Epoch 25/50, Train Loss: 0.4076, Train Accuracy: 0.8577, Validation Loss: 0.5816, Validation Accuracy: 0.8102\n",
            "No improvement in validation loss. Patience counter: 4/10\n",
            "Epoch 26/50, Train Loss: 0.4043, Train Accuracy: 0.8567, Validation Loss: 0.5942, Validation Accuracy: 0.8034\n",
            "No improvement in validation loss. Patience counter: 5/10\n",
            "Epoch 27/50, Train Loss: 0.3918, Train Accuracy: 0.8625, Validation Loss: 0.5827, Validation Accuracy: 0.8120\n",
            "No improvement in validation loss. Patience counter: 6/10\n",
            "Epoch 28/50, Train Loss: 0.3910, Train Accuracy: 0.8628, Validation Loss: 0.5683, Validation Accuracy: 0.8110\n",
            "No improvement in validation loss. Patience counter: 7/10\n",
            "Epoch 29/50, Train Loss: 0.3879, Train Accuracy: 0.8631, Validation Loss: 0.5704, Validation Accuracy: 0.8140\n",
            "Validation loss improved to 0.5473, saving model...\n",
            "Epoch 30/50, Train Loss: 0.3760, Train Accuracy: 0.8674, Validation Loss: 0.5473, Validation Accuracy: 0.8208\n",
            "No improvement in validation loss. Patience counter: 1/10\n",
            "Epoch 31/50, Train Loss: 0.3739, Train Accuracy: 0.8677, Validation Loss: 0.6097, Validation Accuracy: 0.8014\n",
            "No improvement in validation loss. Patience counter: 2/10\n",
            "Epoch 32/50, Train Loss: 0.3704, Train Accuracy: 0.8709, Validation Loss: 0.5837, Validation Accuracy: 0.8148\n",
            "No improvement in validation loss. Patience counter: 3/10\n",
            "Epoch 33/50, Train Loss: 0.3695, Train Accuracy: 0.8710, Validation Loss: 0.5614, Validation Accuracy: 0.8154\n",
            "No improvement in validation loss. Patience counter: 4/10\n",
            "Epoch 34/50, Train Loss: 0.3568, Train Accuracy: 0.8739, Validation Loss: 0.5835, Validation Accuracy: 0.8154\n",
            "No improvement in validation loss. Patience counter: 5/10\n",
            "Epoch 35/50, Train Loss: 0.3493, Train Accuracy: 0.8757, Validation Loss: 0.5954, Validation Accuracy: 0.8092\n",
            "No improvement in validation loss. Patience counter: 6/10\n",
            "Epoch 36/50, Train Loss: 0.3428, Train Accuracy: 0.8795, Validation Loss: 0.5647, Validation Accuracy: 0.8212\n",
            "No improvement in validation loss. Patience counter: 7/10\n",
            "Epoch 37/50, Train Loss: 0.3472, Train Accuracy: 0.8780, Validation Loss: 0.5614, Validation Accuracy: 0.8216\n",
            "No improvement in validation loss. Patience counter: 8/10\n",
            "Epoch 38/50, Train Loss: 0.3335, Train Accuracy: 0.8819, Validation Loss: 0.5740, Validation Accuracy: 0.8170\n",
            "No improvement in validation loss. Patience counter: 9/10\n",
            "Epoch 39/50, Train Loss: 0.3366, Train Accuracy: 0.8810, Validation Loss: 0.5719, Validation Accuracy: 0.8186\n",
            "No improvement in validation loss. Patience counter: 10/10\n",
            "Early stopping triggered.\n",
            "Best model saved as 'best_model.pth'.\n"
          ]
        }
      ]
    },
    {
      "cell_type": "code",
      "source": [
        "import matplotlib.pyplot as plt\n",
        "\n",
        "# Generate the convergence graph\n",
        "plt.figure(figsize=(10, 6))\n",
        "\n",
        "# Define the epochs range\n",
        "epochs = range(1, len(train_loss_history) + 1)\n",
        "\n",
        "# Plot training and validation loss\n",
        "plt.plot(epochs, train_loss_history, label='Training Loss')\n",
        "plt.plot(epochs, val_loss_history, label='Validation Loss')\n",
        "\n",
        "# Add labels, title, and legend\n",
        "plt.xlabel(\"Epochs\")\n",
        "plt.ylabel(\"Loss\")\n",
        "plt.title(\"Convergence Graph: Training vs Validation Loss\")\n",
        "plt.legend()\n",
        "plt.grid(True)\n",
        "\n",
        "# Show the graph\n",
        "plt.show()\n"
      ],
      "metadata": {
        "colab": {
          "base_uri": "https://localhost:8080/",
          "height": 564
        },
        "id": "g7-E29C_6K63",
        "outputId": "e9edbfbe-87d8-4206-8394-35200e1c5050"
      },
      "execution_count": 33,
      "outputs": [
        {
          "output_type": "display_data",
          "data": {
            "text/plain": [
              "<Figure size 1000x600 with 1 Axes>"
            ],
            "image/png": "[encoded data removed]"
          },
          "metadata": {}
        }
      ]
    },
    {
      "cell_type": "markdown",
      "source": [
        "## Question 2: CNN Design Architecture (With Batch Normalization)\n",
        "\n",
        "- 3 Convolutional Layers\n",
        "- 3 Fully Connected Layers\n",
        "- 3 Batch Normalization"
      ],
      "metadata": {
        "id": "XKYGaJfXNCKX"
      }
    },
    {
      "cell_type": "code",
      "source": [
        "import torch.nn as nn\n",
        "import torch.nn.functional as F\n",
        "\n",
        "class ConvNetWithBatchNorm(nn.Module):\n",
        "    def __init__(self, imgHeight, imgWidth, categories):\n",
        "        super().__init__()\n",
        "        # Convolutional Layers with Batch Normalization and MaxPooling\n",
        "        self.conv1 = nn.Conv2d(in_channels=3, out_channels=64, kernel_size=3, padding=1)\n",
        "        self.bn1 = nn.BatchNorm2d(64)  # Batch Normalization after Conv1\n",
        "        self.pool1 = nn.MaxPool2d(kernel_size=2, stride=2)\n",
        "        self.dropout1 = nn.Dropout(0.25)\n",
        "\n",
        "        self.conv2 = nn.Conv2d(in_channels=64, out_channels=128, kernel_size=3, padding=1)\n",
        "        self.bn2 = nn.BatchNorm2d(128)  # Batch Normalization after Conv2\n",
        "        self.pool2 = nn.MaxPool2d(kernel_size=2, stride=2)\n",
        "        self.dropout2 = nn.Dropout(0.25)\n",
        "\n",
        "        self.conv3 = nn.Conv2d(in_channels=128, out_channels=256, kernel_size=3, padding=1)\n",
        "        self.bn3 = nn.BatchNorm2d(256)  # Batch Normalization after Conv3\n",
        "        self.pool3 = nn.MaxPool2d(kernel_size=2, stride=2)\n",
        "        self.dropout3 = nn.Dropout(0.25)\n",
        "\n",
        "        # Fully Connected Layers\n",
        "        self.fc1 = nn.Linear(256 * (imgHeight // 8) * (imgWidth // 8), 256)\n",
        "        self.dropout_fc1 = nn.Dropout(0.25)\n",
        "        self.fc2 = nn.Linear(256, 128)\n",
        "        self.dropout_fc2 = nn.Dropout(0.25)\n",
        "        self.fc3 = nn.Linear(128, categories)\n",
        "        self.dropout_fc3 = nn.Dropout(0.25)\n",
        "\n",
        "    def forward(self, x):\n",
        "        # Convolutional and Pooling Layers with Batch Normalization\n",
        "        x = self.pool1(F.relu(self.bn1(self.conv1(x))))  # Conv1 -> BN1 -> Pool1\n",
        "        x = self.dropout1(x)\n",
        "        x = self.pool2(F.relu(self.bn2(self.conv2(x))))  # Conv2 -> BN2 -> Pool2\n",
        "        x = self.dropout2(x)\n",
        "        x = self.pool3(F.relu(self.bn3(self.conv3(x))))  # Conv3 -> BN3 -> Pool3\n",
        "        x = self.dropout3(x)\n",
        "\n",
        "        # Flatten Layer\n",
        "        x = torch.flatten(x, 1)\n",
        "\n",
        "        # Fully Connected Layers\n",
        "        x = F.relu(self.fc1(x))\n",
        "        x = self.dropout_fc1(x)\n",
        "        x = F.relu(self.fc2(x))\n",
        "        x = self.dropout_fc2(x)\n",
        "        x = self.fc3(x)\n",
        "\n",
        "        return x\n",
        "\n",
        "# Parameters for CIFAR-10\n",
        "imgHeight, imgWidth, categories = 32, 32, 10\n",
        "\n",
        "# Instantiate the Model\n",
        "model_with_bn = ConvNetWithBatchNorm(imgHeight, imgWidth, categories).to(device)\n",
        "print(model_with_bn)"
      ],
      "metadata": {
        "colab": {
          "base_uri": "https://localhost:8080/"
        },
        "id": "dXffz_H_47wM",
        "outputId": "f5fa2e68-c60f-4955-f9f5-8d45cc85e4d7"
      },
      "execution_count": 34,
      "outputs": [
        {
          "output_type": "stream",
          "name": "stdout",
          "text": [
            "ConvNetWithBatchNorm(\n",
            "  (conv1): Conv2d(3, 64, kernel_size=(3, 3), stride=(1, 1), padding=(1, 1))\n",
            "  (bn1): BatchNorm2d(64, eps=1e-05, momentum=0.1, affine=True, track_running_stats=True)\n",
            "  (pool1): MaxPool2d(kernel_size=2, stride=2, padding=0, dilation=1, ceil_mode=False)\n",
            "  (dropout1): Dropout(p=0.25, inplace=False)\n",
            "  (conv2): Conv2d(64, 128, kernel_size=(3, 3), stride=(1, 1), padding=(1, 1))\n",
            "  (bn2): BatchNorm2d(128, eps=1e-05, momentum=0.1, affine=True, track_running_stats=True)\n",
            "  (pool2): MaxPool2d(kernel_size=2, stride=2, padding=0, dilation=1, ceil_mode=False)\n",
            "  (dropout2): Dropout(p=0.25, inplace=False)\n",
            "  (conv3): Conv2d(128, 256, kernel_size=(3, 3), stride=(1, 1), padding=(1, 1))\n",
            "  (bn3): BatchNorm2d(256, eps=1e-05, momentum=0.1, affine=True, track_running_stats=True)\n",
            "  (pool3): MaxPool2d(kernel_size=2, stride=2, padding=0, dilation=1, ceil_mode=False)\n",
            "  (dropout3): Dropout(p=0.25, inplace=False)\n",
            "  (fc1): Linear(in_features=4096, out_features=256, bias=True)\n",
            "  (dropout_fc1): Dropout(p=0.25, inplace=False)\n",
            "  (fc2): Linear(in_features=256, out_features=128, bias=True)\n",
            "  (dropout_fc2): Dropout(p=0.25, inplace=False)\n",
            "  (fc3): Linear(in_features=128, out_features=10, bias=True)\n",
            "  (dropout_fc3): Dropout(p=0.25, inplace=False)\n",
            ")\n"
          ]
        }
      ]
    },
    {
      "cell_type": "markdown",
      "source": [
        "### Training with Batch Normalization"
      ],
      "metadata": {
        "id": "vzApEN5RVvNO"
      }
    },
    {
      "cell_type": "code",
      "source": [
        "import torch.optim as optim\n",
        "\n",
        "# Hyperparameters\n",
        "learning_rate = 0.001\n",
        "num_epochs = 50\n",
        "loss_fun = nn.CrossEntropyLoss()\n",
        "optimizer = torch.optim.Adam(model_with_bn.parameters(), lr=0.001, weight_decay=1e-4)\n",
        "\n",
        "\n",
        "# Function to calculate correct predictions\n",
        "def correct(output, target):\n",
        "    pred = output.argmax(dim=1)\n",
        "    correct_pred = (pred == target).type(torch.float)\n",
        "    return correct_pred.sum().item()\n",
        "\n",
        "\n",
        "# Training function for CNN with batch normalization (without early stopping)\n",
        "def train_bn(train_loader, val_loader, model, loss_fun, optimizer, num_epochs):\n",
        "    train_loss_history, train_acc_history = [], []\n",
        "    val_loss_history, val_acc_history = [], []\n",
        "\n",
        "    for epoch in range(num_epochs):\n",
        "        # Training phase\n",
        "        model.train()\n",
        "        total_loss = 0\n",
        "        total_correct = 0\n",
        "        total_samples = 0\n",
        "\n",
        "        for data, target in train_loader:\n",
        "            data, target = data.to(device), target.to(device)\n",
        "\n",
        "            # Forward pass\n",
        "            output = model(data)\n",
        "            loss = loss_fun(output, target)\n",
        "            total_loss += loss.item()\n",
        "\n",
        "            # Calculate correct predictions\n",
        "            total_correct += correct(output, target)\n",
        "            total_samples += target.size(0)\n",
        "\n",
        "            # Backpropagation\n",
        "            optimizer.zero_grad()\n",
        "            loss.backward()\n",
        "            optimizer.step()\n",
        "\n",
        "        # Training metrics\n",
        "        train_loss = total_loss / len(train_loader)\n",
        "        train_acc = total_correct / total_samples\n",
        "        train_loss_history.append(train_loss)\n",
        "        train_acc_history.append(train_acc)\n",
        "\n",
        "        # Validation phase\n",
        "        model.eval()\n",
        "        val_loss = 0\n",
        "        val_correct = 0\n",
        "        val_samples = 0\n",
        "\n",
        "        with torch.no_grad():\n",
        "            for data, target in val_loader:\n",
        "                data, target = data.to(device), target.to(device)\n",
        "                output = model(data)\n",
        "                loss = loss_fun(output, target)\n",
        "                val_loss += loss.item()\n",
        "                val_correct += correct(output, target)\n",
        "                val_samples += target.size(0)\n",
        "\n",
        "        val_loss /= len(val_loader)\n",
        "        val_acc = val_correct / val_samples\n",
        "        val_loss_history.append(val_loss)\n",
        "        val_acc_history.append(val_acc)\n",
        "\n",
        "        # Print progress\n",
        "        print(f\"Epoch {epoch+1}/{num_epochs}, \"\n",
        "              f\"Train Loss: {train_loss:.4f}, Train Accuracy: {train_acc:.4f}, \"\n",
        "              f\"Validation Loss: {val_loss:.4f}, Validation Accuracy: {val_acc:.4f}\")\n",
        "\n",
        "    return train_loss_history, train_acc_history, val_loss_history, val_acc_history\n",
        "\n",
        "# Call the training function for CNN with batch normalization\n",
        "train_loss_bn, train_acc_bn, val_loss_bn, val_acc_bn = train_bn(\n",
        "    train_loader=train_loader,\n",
        "    val_loader=val_loader,\n",
        "    model=model_with_bn,\n",
        "    loss_fun=loss_fun,\n",
        "    optimizer=optimizer,\n",
        "    num_epochs=num_epochs\n",
        ")\n"
      ],
      "metadata": {
        "colab": {
          "base_uri": "https://localhost:8080/"
        },
        "id": "KKL4ij4fSnIj",
        "outputId": "83c7a576-64bf-4488-be14-3b2591e7f888"
      },
      "execution_count": 35,
      "outputs": [
        {
          "output_type": "stream",
          "name": "stdout",
          "text": [
            "Epoch 1/50, Train Loss: 1.4876, Train Accuracy: 0.4531, Validation Loss: 1.2034, Validation Accuracy: 0.5598\n",
            "Epoch 2/50, Train Loss: 1.1032, Train Accuracy: 0.6078, Validation Loss: 0.9635, Validation Accuracy: 0.6554\n",
            "Epoch 3/50, Train Loss: 0.9677, Train Accuracy: 0.6586, Validation Loss: 0.8203, Validation Accuracy: 0.7056\n",
            "Epoch 4/50, Train Loss: 0.8759, Train Accuracy: 0.6938, Validation Loss: 0.8388, Validation Accuracy: 0.7026\n",
            "Epoch 5/50, Train Loss: 0.8138, Train Accuracy: 0.7184, Validation Loss: 0.7259, Validation Accuracy: 0.7466\n",
            "Epoch 6/50, Train Loss: 0.7696, Train Accuracy: 0.7334, Validation Loss: 0.7080, Validation Accuracy: 0.7464\n",
            "Epoch 7/50, Train Loss: 0.7286, Train Accuracy: 0.7490, Validation Loss: 0.7121, Validation Accuracy: 0.7516\n",
            "Epoch 8/50, Train Loss: 0.6942, Train Accuracy: 0.7598, Validation Loss: 0.6743, Validation Accuracy: 0.7654\n",
            "Epoch 9/50, Train Loss: 0.6639, Train Accuracy: 0.7700, Validation Loss: 0.6023, Validation Accuracy: 0.7850\n",
            "Epoch 10/50, Train Loss: 0.6278, Train Accuracy: 0.7829, Validation Loss: 0.6103, Validation Accuracy: 0.7816\n",
            "Epoch 11/50, Train Loss: 0.6041, Train Accuracy: 0.7888, Validation Loss: 0.5792, Validation Accuracy: 0.7962\n",
            "Epoch 12/50, Train Loss: 0.5789, Train Accuracy: 0.8000, Validation Loss: 0.5832, Validation Accuracy: 0.8044\n",
            "Epoch 13/50, Train Loss: 0.5541, Train Accuracy: 0.8065, Validation Loss: 0.5568, Validation Accuracy: 0.8050\n",
            "Epoch 14/50, Train Loss: 0.5364, Train Accuracy: 0.8157, Validation Loss: 0.5961, Validation Accuracy: 0.7954\n",
            "Epoch 15/50, Train Loss: 0.5095, Train Accuracy: 0.8251, Validation Loss: 0.5591, Validation Accuracy: 0.8052\n",
            "Epoch 16/50, Train Loss: 0.4985, Train Accuracy: 0.8260, Validation Loss: 0.5310, Validation Accuracy: 0.8118\n",
            "Epoch 17/50, Train Loss: 0.4723, Train Accuracy: 0.8368, Validation Loss: 0.5578, Validation Accuracy: 0.8070\n",
            "Epoch 18/50, Train Loss: 0.4546, Train Accuracy: 0.8424, Validation Loss: 0.5241, Validation Accuracy: 0.8204\n",
            "Epoch 19/50, Train Loss: 0.4458, Train Accuracy: 0.8451, Validation Loss: 0.5612, Validation Accuracy: 0.8118\n",
            "Epoch 20/50, Train Loss: 0.4233, Train Accuracy: 0.8548, Validation Loss: 0.6117, Validation Accuracy: 0.7946\n",
            "Epoch 21/50, Train Loss: 0.4150, Train Accuracy: 0.8563, Validation Loss: 0.5698, Validation Accuracy: 0.8130\n",
            "Epoch 22/50, Train Loss: 0.4009, Train Accuracy: 0.8583, Validation Loss: 0.5187, Validation Accuracy: 0.8278\n",
            "Epoch 23/50, Train Loss: 0.3848, Train Accuracy: 0.8683, Validation Loss: 0.5131, Validation Accuracy: 0.8246\n",
            "Epoch 24/50, Train Loss: 0.3789, Train Accuracy: 0.8676, Validation Loss: 0.5010, Validation Accuracy: 0.8286\n",
            "Epoch 25/50, Train Loss: 0.3642, Train Accuracy: 0.8743, Validation Loss: 0.5388, Validation Accuracy: 0.8208\n",
            "Epoch 26/50, Train Loss: 0.3623, Train Accuracy: 0.8738, Validation Loss: 0.5172, Validation Accuracy: 0.8286\n",
            "Epoch 27/50, Train Loss: 0.3499, Train Accuracy: 0.8787, Validation Loss: 0.5041, Validation Accuracy: 0.8316\n",
            "Epoch 28/50, Train Loss: 0.3429, Train Accuracy: 0.8794, Validation Loss: 0.5254, Validation Accuracy: 0.8274\n",
            "Epoch 29/50, Train Loss: 0.3348, Train Accuracy: 0.8836, Validation Loss: 0.5211, Validation Accuracy: 0.8314\n",
            "Epoch 30/50, Train Loss: 0.3332, Train Accuracy: 0.8861, Validation Loss: 0.5065, Validation Accuracy: 0.8308\n",
            "Epoch 31/50, Train Loss: 0.3211, Train Accuracy: 0.8882, Validation Loss: 0.5010, Validation Accuracy: 0.8368\n",
            "Epoch 32/50, Train Loss: 0.3154, Train Accuracy: 0.8907, Validation Loss: 0.5096, Validation Accuracy: 0.8316\n",
            "Epoch 33/50, Train Loss: 0.3110, Train Accuracy: 0.8917, Validation Loss: 0.5298, Validation Accuracy: 0.8324\n",
            "Epoch 34/50, Train Loss: 0.3004, Train Accuracy: 0.8952, Validation Loss: 0.5250, Validation Accuracy: 0.8334\n",
            "Epoch 35/50, Train Loss: 0.2977, Train Accuracy: 0.8966, Validation Loss: 0.5261, Validation Accuracy: 0.8302\n",
            "Epoch 36/50, Train Loss: 0.2939, Train Accuracy: 0.8985, Validation Loss: 0.5223, Validation Accuracy: 0.8348\n",
            "Epoch 37/50, Train Loss: 0.2910, Train Accuracy: 0.8998, Validation Loss: 0.5005, Validation Accuracy: 0.8358\n",
            "Epoch 38/50, Train Loss: 0.2922, Train Accuracy: 0.8999, Validation Loss: 0.5034, Validation Accuracy: 0.8366\n",
            "Epoch 39/50, Train Loss: 0.2811, Train Accuracy: 0.9021, Validation Loss: 0.5485, Validation Accuracy: 0.8282\n",
            "Epoch 40/50, Train Loss: 0.2751, Train Accuracy: 0.9060, Validation Loss: 0.5245, Validation Accuracy: 0.8326\n",
            "Epoch 41/50, Train Loss: 0.2744, Train Accuracy: 0.9062, Validation Loss: 0.4979, Validation Accuracy: 0.8388\n",
            "Epoch 42/50, Train Loss: 0.2764, Train Accuracy: 0.9046, Validation Loss: 0.5088, Validation Accuracy: 0.8350\n",
            "Epoch 43/50, Train Loss: 0.2710, Train Accuracy: 0.9061, Validation Loss: 0.5167, Validation Accuracy: 0.8312\n",
            "Epoch 44/50, Train Loss: 0.2698, Train Accuracy: 0.9079, Validation Loss: 0.5248, Validation Accuracy: 0.8382\n",
            "Epoch 45/50, Train Loss: 0.2685, Train Accuracy: 0.9064, Validation Loss: 0.5016, Validation Accuracy: 0.8390\n",
            "Epoch 46/50, Train Loss: 0.2598, Train Accuracy: 0.9113, Validation Loss: 0.5126, Validation Accuracy: 0.8420\n",
            "Epoch 47/50, Train Loss: 0.2580, Train Accuracy: 0.9122, Validation Loss: 0.5197, Validation Accuracy: 0.8360\n",
            "Epoch 48/50, Train Loss: 0.2568, Train Accuracy: 0.9108, Validation Loss: 0.5182, Validation Accuracy: 0.8376\n",
            "Epoch 49/50, Train Loss: 0.2584, Train Accuracy: 0.9098, Validation Loss: 0.5538, Validation Accuracy: 0.8322\n",
            "Epoch 50/50, Train Loss: 0.2503, Train Accuracy: 0.9145, Validation Loss: 0.5168, Validation Accuracy: 0.8376\n"
          ]
        }
      ]
    },
    {
      "cell_type": "code",
      "source": [
        "import matplotlib.pyplot as plt\n",
        "\n",
        "# Generate the convergence graph\n",
        "plt.figure(figsize=(10, 6))\n",
        "\n",
        "# Define epochs for both models\n",
        "epochs_no_bn = range(1, len(train_loss_history) + 1)  # Length of loss history for no BN model\n",
        "epochs_with_bn = range(1, len(train_loss_bn) + 1)     # Length of loss history for with BN model\n",
        "\n",
        "# Plot Training Loss Comparison\n",
        "plt.plot(epochs_no_bn, train_loss_history, label=\"Training Loss (No Batch Norm)\")\n",
        "plt.plot(epochs_with_bn, train_loss_bn, label=\"Training Loss (With Batch Norm)\")\n",
        "\n",
        "# Plot Validation Loss Comparison\n",
        "plt.plot(epochs_no_bn, val_loss_history, label=\"Validation Loss (No Batch Norm)\")\n",
        "plt.plot(epochs_with_bn, val_loss_bn, label=\"Validation Loss (With Batch Norm)\")\n",
        "\n",
        "# Add labels, legend, and title\n",
        "plt.xlabel(\"Epochs\")\n",
        "plt.ylabel(\"Loss\")\n",
        "plt.title(\"Convergence Graph: With vs Without Batch Normalization\")\n",
        "plt.legend()\n",
        "plt.grid(True)\n",
        "\n",
        "# Show the graph\n",
        "plt.show()\n"
      ],
      "metadata": {
        "colab": {
          "base_uri": "https://localhost:8080/",
          "height": 564
        },
        "id": "7SPW8B0EWXYc",
        "outputId": "6d347b8b-e6f2-423e-8920-a506e8c287a5"
      },
      "execution_count": 16,
      "outputs": [
        {
          "output_type": "display_data",
          "data": {
            "text/plain": [
              "<Figure size 1000x600 with 1 Axes>"
            ],
            "image/png": "[encoded data removed]"
          },
          "metadata": {}
        }
      ]
    },
    {
      "cell_type": "markdown",
      "source": [
        "## 1. For the training, use early stopping and save the model that produces the best validation results. (you will need to use a training set and a validation set) [Marks 10: 5+3+2]"
      ],
      "metadata": {
        "id": "JXav-ypiworD"
      }
    },
    {
      "cell_type": "code",
      "execution_count": null,
      "metadata": {
        "id": "ivB5VxYDs2yw"
      },
      "outputs": [],
      "source": []
    },
    {
      "cell_type": "markdown",
      "source": [
        "## 2. Show the performance of your designed CNN with and without batch normalisation. Use a convergence graph to show the difference in their performances [Marks 10: 5+5]"
      ],
      "metadata": {
        "id": "pHJX7HqWwxTZ"
      }
    },
    {
      "cell_type": "code",
      "source": [],
      "metadata": {
        "id": "1w5kXelew39v"
      },
      "execution_count": null,
      "outputs": []
    },
    {
      "cell_type": "markdown",
      "source": [
        "## 3. Visualise the Convolutional Features / Filters. This could be done by using imshow or similar methods. Show how filter features change over different layers over a test image. [Marks 20: 10+10]"
      ],
      "metadata": {
        "id": "b_I2AIb3w4X8"
      }
    },
    {
      "cell_type": "code",
      "source": [],
      "metadata": {
        "id": "z0yHWDD3w8U3"
      },
      "execution_count": null,
      "outputs": []
    }
  ]
}