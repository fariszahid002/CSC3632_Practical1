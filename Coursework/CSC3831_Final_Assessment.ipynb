{
  "nbformat": 4,
  "nbformat_minor": 0,
  "metadata": {
    "colab": {
      "provenance": []
    },
    "kernelspec": {
      "name": "python3",
      "display_name": "Python 3"
    },
    "language_info": {
      "name": "python"
    }
  },
  "cells": [
    {
      "cell_type": "markdown",
      "source": [
        "# CSC3831 Final Assessment - Part I: Data Engineering\n",
        "\n"
      ],
      "metadata": {
        "id": "SsFtldtMYMGG"
      }
    },
    {
      "cell_type": "code",
      "execution_count": 1,
      "metadata": {
        "id": "CXEwmOVfYG8b"
      },
      "outputs": [],
      "source": [
        "# Loading in standard packages for analysis, feel free to add an extra packages you'd like to use here\n",
        "import random\n",
        "import pandas as pd\n",
        "import numpy as np\n",
        "import seaborn as sns\n",
        "import missingno as msno\n",
        "# Loading in the corrupted dataset to be used in analysis and imputation\n",
        "houses_corrupted = pd.read_csv('https://raw.githubusercontent.com/PaoloMissier/CSC3831-2021-22/main/IMPUTATION/TARGET-DATASETS/CORRUPTED/HOUSES/houses_0.1_MAR.csv', header=0)\n",
        "# Remove an artifact from the dataset\n",
        "houses_corrupted.drop([\"Unnamed: 0\"], axis=1, inplace=True)"
      ]
    },
    {
      "cell_type": "markdown",
      "source": [
        "Above we've loaded in a corrupted version of a housing dataset. The anomalies need to be dealt with and missing values imputed."
      ],
      "metadata": {
        "id": "-UkViOchMMIg"
      }
    },
    {
      "cell_type": "markdown",
      "source": [
        "### 1. Data Understanding [7]\n",
        "- Perform ad hoc EDA to understand and describe what you see in the raw dataset\n",
        "  - Include graphs, statistics, and written descriptions as appropriate\n",
        "  - Any extra information about the data you can provide here is useful, think about performing an analysis (ED**A**), what would you find interesting or useful?\n",
        "- Identify features with missing records, outlier records\n"
      ],
      "metadata": {
        "id": "abwbd_vBYsv7"
      }
    },
    {
      "cell_type": "markdown",
      "source": [
        "##Taking a First Look at the Data\n",
        "I am beginning my exploratory data analysis by examining the basic information of the `houses_corrupted` dataset using the `info()` function. This provides an overview of the dataset, including the total number of entries, the number of columns, the data types for each column, and the count of non-null values per column. This initial inspection is essential as it reveals any potential missing values and helps determine if further data cleaning is needed."
      ],
      "metadata": {
        "id": "lhWoDxiLK-fC"
      }
    },
    {
      "cell_type": "code",
      "source": [
        "houses_corrupted.info()"
      ],
      "metadata": {
        "id": "G04uriMrZH7P"
      },
      "execution_count": null,
      "outputs": []
    },
    {
      "cell_type": "markdown",
      "source": [
        "From the intial inspection using `info()`, I observed that there are missing values in columns like `median_income`, `housing_median_age`, and population, as these columns have 18576 non-null counts compared to the total of 20640 entries. To further explore the structure and contents of the dataset, I used the `head(10)` function to view the first 10 rows."
      ],
      "metadata": {
        "id": "VKVjSCbtYmFp"
      }
    },
    {
      "cell_type": "code",
      "source": [
        "houses_corrupted.head(10)"
      ],
      "metadata": {
        "id": "2nU-RnTrDAaW"
      },
      "execution_count": null,
      "outputs": []
    },
    {
      "cell_type": "markdown",
      "source": [
        "From examining the first 10 rows of the dataset, it is evident there are missing values, particularly in columns like `population` (as seen in rows 2 and 3 where the values are shown as `NaN`). This initial observation has suggested that data imputation may be required to address missing values for further analysis."
      ],
      "metadata": {
        "id": "HzjzO2bYb3kv"
      }
    },
    {
      "cell_type": "markdown",
      "source": [
        "## Visualizing Relationships, Distributions and Statistical Summaries\n",
        "\n",
        "Since the `houses_corrupted` dataset consists entirely of numerical values, I generated a pair plot using the `sns.pairplot` function to examine the center, spread, and skew of data. The pair plot enables us to visually explore the distributions and pairwise relationships between attributes, helping to identify trends, clusters, or unusual patterns that could impact the data analysis."
      ],
      "metadata": {
        "id": "EjFtfuN6jKRg"
      }
    },
    {
      "cell_type": "code",
      "source": [
        "sns.pairplot(houses_corrupted)"
      ],
      "metadata": {
        "id": "tI2GM4ouL_4K"
      },
      "execution_count": null,
      "outputs": []
    },
    {
      "cell_type": "markdown",
      "source": [
        "Due to large volume of data points, it is challenging to determine the skew for each attribute directly from the pair plot alone. The dense overlapping points make it difficult to discern finer details in data distribution. To address this, I created a density plot for each attribute using the `sns.kdeplot` function, which provides a clearer view of the skewness of the data and distribution shape."
      ],
      "metadata": {
        "id": "EJ9DLsv_nhMr"
      }
    },
    {
      "cell_type": "code",
      "source": [
        "sns.kdeplot(houses_corrupted['median_house_value'])"
      ],
      "metadata": {
        "id": "zB53gneRZer7"
      },
      "execution_count": null,
      "outputs": []
    },
    {
      "cell_type": "code",
      "source": [
        "sns.kdeplot(houses_corrupted['median_income'])"
      ],
      "metadata": {
        "id": "gn1-ljuZaIZ5"
      },
      "execution_count": null,
      "outputs": []
    },
    {
      "cell_type": "code",
      "source": [
        "sns.kdeplot(houses_corrupted['housing_median_age'])"
      ],
      "metadata": {
        "id": "o6hhHSxkaK6e"
      },
      "execution_count": null,
      "outputs": []
    },
    {
      "cell_type": "code",
      "source": [
        "sns.kdeplot(houses_corrupted['total_rooms'])"
      ],
      "metadata": {
        "id": "ZT8hDvkzaLpS"
      },
      "execution_count": null,
      "outputs": []
    },
    {
      "cell_type": "code",
      "source": [
        "sns.kdeplot(houses_corrupted['total_bedrooms'])"
      ],
      "metadata": {
        "id": "N_5dUwSPaMLe"
      },
      "execution_count": null,
      "outputs": []
    },
    {
      "cell_type": "code",
      "source": [
        "sns.kdeplot(houses_corrupted['population'])"
      ],
      "metadata": {
        "id": "Stlpa71-aMot"
      },
      "execution_count": null,
      "outputs": []
    },
    {
      "cell_type": "code",
      "source": [
        "sns.kdeplot(houses_corrupted['households'])"
      ],
      "metadata": {
        "id": "6ZxTg2dZaecF"
      },
      "execution_count": null,
      "outputs": []
    },
    {
      "cell_type": "code",
      "source": [
        "sns.kdeplot(houses_corrupted['latitude'])"
      ],
      "metadata": {
        "id": "qnMPnEz_ahSt"
      },
      "execution_count": null,
      "outputs": []
    },
    {
      "cell_type": "code",
      "source": [
        "sns.kdeplot(houses_corrupted['longitude'])"
      ],
      "metadata": {
        "id": "Rlc6-KSraoQt"
      },
      "execution_count": null,
      "outputs": []
    },
    {
      "cell_type": "markdown",
      "source": [
        "The density plots show that `median_house_value`, `median_income`, `total_rooms`, `total_bedrooms`, `population`, and `households` are all right-skewed with the majority of values clustered at lower ranges and a long tail extending to higher values. This right-skewness suggests a high concentration of data points at the lower end of each variable's range, with fewer outliers on the higher end.\n",
        "\n",
        "Furthermore, the density plot for `housing_median_age` shows multiple peaks, indicating a multimodal distribution rather than a simple skew. Unlike other variables, `housing_median_age` does not display a strong right or left skew but instead has several prominent peaks, showing varying concentrations of housing ages across different ranges.\n",
        "\n",
        "Additionally, the `latitude` and `longitude` plots display bimodal distributions, each with two distinct peaks. This indicates that there are two main clusters of data points in these attributes."
      ],
      "metadata": {
        "id": "UN7ifVrcoPsT"
      }
    },
    {
      "cell_type": "markdown",
      "source": [
        "Next, I used the `describe` method to view the summary statistics of the numeric values."
      ],
      "metadata": {
        "id": "xpn4wzwQbJrU"
      }
    },
    {
      "cell_type": "code",
      "source": [
        "houses_corrupted.describe()"
      ],
      "metadata": {
        "id": "rCK7JP0NbRym",
        "outputId": "3cb9d8ea-2ab3-48c0-f6e9-baf5567dab7f",
        "colab": {
          "base_uri": "https://localhost:8080/",
          "height": 300
        }
      },
      "execution_count": 2,
      "outputs": [
        {
          "output_type": "execute_result",
          "data": {
            "text/plain": [
              "       median_house_value  median_income  housing_median_age   total_rooms  \\\n",
              "count        20640.000000   18576.000000        18576.000000  20640.000000   \n",
              "mean        206855.816909       3.929958           28.324182   2635.763081   \n",
              "std         115395.615874       1.964296           12.584914   2181.615252   \n",
              "min          14999.000000       0.499900            1.000000      2.000000   \n",
              "25%         119600.000000       2.560300           18.000000   1447.750000   \n",
              "50%         179700.000000       3.572400           28.000000   2127.000000   \n",
              "75%         264725.000000       4.870050           37.000000   3148.000000   \n",
              "max         500001.000000      15.000100           52.000000  39320.000000   \n",
              "\n",
              "       total_bedrooms    population    households      latitude     longitude  \n",
              "count    20640.000000  18576.000000  20640.000000  20640.000000  20640.000000  \n",
              "mean       537.898014   1488.069283    499.539680     35.631861   -119.569704  \n",
              "std        421.247906   1170.585810    382.329753      2.135952      2.003532  \n",
              "min          1.000000      3.000000      1.000000     32.540000   -124.350000  \n",
              "25%        295.000000    839.000000    280.000000     33.930000   -121.800000  \n",
              "50%        435.000000   1227.000000    409.000000     34.260000   -118.490000  \n",
              "75%        647.000000   1803.000000    605.000000     37.710000   -118.010000  \n",
              "max       6445.000000  35682.000000   6082.000000     41.950000   -114.310000  "
            ],
            "text/html": [
              "\n",
              "  <div id=\"df-8fbb573b-08e2-46c6-a51c-d903fd18cff0\" class=\"colab-df-container\">\n",
              "    <div>\n",
              "<style scoped>\n",
              "    .dataframe tbody tr th:only-of-type {\n",
              "        vertical-align: middle;\n",
              "    }\n",
              "\n",
              "    .dataframe tbody tr th {\n",
              "        vertical-align: top;\n",
              "    }\n",
              "\n",
              "    .dataframe thead th {\n",
              "        text-align: right;\n",
              "    }\n",
              "</style>\n",
              "<table border=\"1\" class=\"dataframe\">\n",
              "  <thead>\n",
              "    <tr style=\"text-align: right;\">\n",
              "      <th></th>\n",
              "      <th>median_house_value</th>\n",
              "      <th>median_income</th>\n",
              "      <th>housing_median_age</th>\n",
              "      <th>total_rooms</th>\n",
              "      <th>total_bedrooms</th>\n",
              "      <th>population</th>\n",
              "      <th>households</th>\n",
              "      <th>latitude</th>\n",
              "      <th>longitude</th>\n",
              "    </tr>\n",
              "  </thead>\n",
              "  <tbody>\n",
              "    <tr>\n",
              "      <th>count</th>\n",
              "      <td>20640.000000</td>\n",
              "      <td>18576.000000</td>\n",
              "      <td>18576.000000</td>\n",
              "      <td>20640.000000</td>\n",
              "      <td>20640.000000</td>\n",
              "      <td>18576.000000</td>\n",
              "      <td>20640.000000</td>\n",
              "      <td>20640.000000</td>\n",
              "      <td>20640.000000</td>\n",
              "    </tr>\n",
              "    <tr>\n",
              "      <th>mean</th>\n",
              "      <td>206855.816909</td>\n",
              "      <td>3.929958</td>\n",
              "      <td>28.324182</td>\n",
              "      <td>2635.763081</td>\n",
              "      <td>537.898014</td>\n",
              "      <td>1488.069283</td>\n",
              "      <td>499.539680</td>\n",
              "      <td>35.631861</td>\n",
              "      <td>-119.569704</td>\n",
              "    </tr>\n",
              "    <tr>\n",
              "      <th>std</th>\n",
              "      <td>115395.615874</td>\n",
              "      <td>1.964296</td>\n",
              "      <td>12.584914</td>\n",
              "      <td>2181.615252</td>\n",
              "      <td>421.247906</td>\n",
              "      <td>1170.585810</td>\n",
              "      <td>382.329753</td>\n",
              "      <td>2.135952</td>\n",
              "      <td>2.003532</td>\n",
              "    </tr>\n",
              "    <tr>\n",
              "      <th>min</th>\n",
              "      <td>14999.000000</td>\n",
              "      <td>0.499900</td>\n",
              "      <td>1.000000</td>\n",
              "      <td>2.000000</td>\n",
              "      <td>1.000000</td>\n",
              "      <td>3.000000</td>\n",
              "      <td>1.000000</td>\n",
              "      <td>32.540000</td>\n",
              "      <td>-124.350000</td>\n",
              "    </tr>\n",
              "    <tr>\n",
              "      <th>25%</th>\n",
              "      <td>119600.000000</td>\n",
              "      <td>2.560300</td>\n",
              "      <td>18.000000</td>\n",
              "      <td>1447.750000</td>\n",
              "      <td>295.000000</td>\n",
              "      <td>839.000000</td>\n",
              "      <td>280.000000</td>\n",
              "      <td>33.930000</td>\n",
              "      <td>-121.800000</td>\n",
              "    </tr>\n",
              "    <tr>\n",
              "      <th>50%</th>\n",
              "      <td>179700.000000</td>\n",
              "      <td>3.572400</td>\n",
              "      <td>28.000000</td>\n",
              "      <td>2127.000000</td>\n",
              "      <td>435.000000</td>\n",
              "      <td>1227.000000</td>\n",
              "      <td>409.000000</td>\n",
              "      <td>34.260000</td>\n",
              "      <td>-118.490000</td>\n",
              "    </tr>\n",
              "    <tr>\n",
              "      <th>75%</th>\n",
              "      <td>264725.000000</td>\n",
              "      <td>4.870050</td>\n",
              "      <td>37.000000</td>\n",
              "      <td>3148.000000</td>\n",
              "      <td>647.000000</td>\n",
              "      <td>1803.000000</td>\n",
              "      <td>605.000000</td>\n",
              "      <td>37.710000</td>\n",
              "      <td>-118.010000</td>\n",
              "    </tr>\n",
              "    <tr>\n",
              "      <th>max</th>\n",
              "      <td>500001.000000</td>\n",
              "      <td>15.000100</td>\n",
              "      <td>52.000000</td>\n",
              "      <td>39320.000000</td>\n",
              "      <td>6445.000000</td>\n",
              "      <td>35682.000000</td>\n",
              "      <td>6082.000000</td>\n",
              "      <td>41.950000</td>\n",
              "      <td>-114.310000</td>\n",
              "    </tr>\n",
              "  </tbody>\n",
              "</table>\n",
              "</div>\n",
              "    <div class=\"colab-df-buttons\">\n",
              "\n",
              "  <div class=\"colab-df-container\">\n",
              "    <button class=\"colab-df-convert\" onclick=\"convertToInteractive('df-8fbb573b-08e2-46c6-a51c-d903fd18cff0')\"\n",
              "            title=\"Convert this dataframe to an interactive table.\"\n",
              "            style=\"display:none;\">\n",
              "\n",
              "  <svg xmlns=\"http://www.w3.org/2000/svg\" height=\"24px\" viewBox=\"0 -960 960 960\">\n",
              "    <path d=\"M120-120v-720h720v720H120Zm60-500h600v-160H180v160Zm220 220h160v-160H400v160Zm0 220h160v-160H400v160ZM180-400h160v-160H180v160Zm440 0h160v-160H620v160ZM180-180h160v-160H180v160Zm440 0h160v-160H620v160Z\"/>\n",
              "  </svg>\n",
              "    </button>\n",
              "\n",
              "  <style>\n",
              "    .colab-df-container {\n",
              "      display:flex;\n",
              "      gap: 12px;\n",
              "    }\n",
              "\n",
              "    .colab-df-convert {\n",
              "      background-color: #E8F0FE;\n",
              "      border: none;\n",
              "      border-radius: 50%;\n",
              "      cursor: pointer;\n",
              "      display: none;\n",
              "      fill: #1967D2;\n",
              "      height: 32px;\n",
              "      padding: 0 0 0 0;\n",
              "      width: 32px;\n",
              "    }\n",
              "\n",
              "    .colab-df-convert:hover {\n",
              "      background-color: #E2EBFA;\n",
              "      box-shadow: 0px 1px 2px rgba(60, 64, 67, 0.3), 0px 1px 3px 1px rgba(60, 64, 67, 0.15);\n",
              "      fill: #174EA6;\n",
              "    }\n",
              "\n",
              "    .colab-df-buttons div {\n",
              "      margin-bottom: 4px;\n",
              "    }\n",
              "\n",
              "    [theme=dark] .colab-df-convert {\n",
              "      background-color: #3B4455;\n",
              "      fill: #D2E3FC;\n",
              "    }\n",
              "\n",
              "    [theme=dark] .colab-df-convert:hover {\n",
              "      background-color: #434B5C;\n",
              "      box-shadow: 0px 1px 3px 1px rgba(0, 0, 0, 0.15);\n",
              "      filter: drop-shadow(0px 1px 2px rgba(0, 0, 0, 0.3));\n",
              "      fill: #FFFFFF;\n",
              "    }\n",
              "  </style>\n",
              "\n",
              "    <script>\n",
              "      const buttonEl =\n",
              "        document.querySelector('#df-8fbb573b-08e2-46c6-a51c-d903fd18cff0 button.colab-df-convert');\n",
              "      buttonEl.style.display =\n",
              "        google.colab.kernel.accessAllowed ? 'block' : 'none';\n",
              "\n",
              "      async function convertToInteractive(key) {\n",
              "        const element = document.querySelector('#df-8fbb573b-08e2-46c6-a51c-d903fd18cff0');\n",
              "        const dataTable =\n",
              "          await google.colab.kernel.invokeFunction('convertToInteractive',\n",
              "                                                    [key], {});\n",
              "        if (!dataTable) return;\n",
              "\n",
              "        const docLinkHtml = 'Like what you see? Visit the ' +\n",
              "          '<a target=\"_blank\" href=https://colab.research.google.com/notebooks/data_table.ipynb>data table notebook</a>'\n",
              "          + ' to learn more about interactive tables.';\n",
              "        element.innerHTML = '';\n",
              "        dataTable['output_type'] = 'display_data';\n",
              "        await google.colab.output.renderOutput(dataTable, element);\n",
              "        const docLink = document.createElement('div');\n",
              "        docLink.innerHTML = docLinkHtml;\n",
              "        element.appendChild(docLink);\n",
              "      }\n",
              "    </script>\n",
              "  </div>\n",
              "\n",
              "\n",
              "<div id=\"df-1378ba59-152f-47a1-820b-635afb610c6a\">\n",
              "  <button class=\"colab-df-quickchart\" onclick=\"quickchart('df-1378ba59-152f-47a1-820b-635afb610c6a')\"\n",
              "            title=\"Suggest charts\"\n",
              "            style=\"display:none;\">\n",
              "\n",
              "<svg xmlns=\"http://www.w3.org/2000/svg\" height=\"24px\"viewBox=\"0 0 24 24\"\n",
              "     width=\"24px\">\n",
              "    <g>\n",
              "        <path d=\"M19 3H5c-1.1 0-2 .9-2 2v14c0 1.1.9 2 2 2h14c1.1 0 2-.9 2-2V5c0-1.1-.9-2-2-2zM9 17H7v-7h2v7zm4 0h-2V7h2v10zm4 0h-2v-4h2v4z\"/>\n",
              "    </g>\n",
              "</svg>\n",
              "  </button>\n",
              "\n",
              "<style>\n",
              "  .colab-df-quickchart {\n",
              "      --bg-color: #E8F0FE;\n",
              "      --fill-color: #1967D2;\n",
              "      --hover-bg-color: #E2EBFA;\n",
              "      --hover-fill-color: #174EA6;\n",
              "      --disabled-fill-color: #AAA;\n",
              "      --disabled-bg-color: #DDD;\n",
              "  }\n",
              "\n",
              "  [theme=dark] .colab-df-quickchart {\n",
              "      --bg-color: #3B4455;\n",
              "      --fill-color: #D2E3FC;\n",
              "      --hover-bg-color: #434B5C;\n",
              "      --hover-fill-color: #FFFFFF;\n",
              "      --disabled-bg-color: #3B4455;\n",
              "      --disabled-fill-color: #666;\n",
              "  }\n",
              "\n",
              "  .colab-df-quickchart {\n",
              "    background-color: var(--bg-color);\n",
              "    border: none;\n",
              "    border-radius: 50%;\n",
              "    cursor: pointer;\n",
              "    display: none;\n",
              "    fill: var(--fill-color);\n",
              "    height: 32px;\n",
              "    padding: 0;\n",
              "    width: 32px;\n",
              "  }\n",
              "\n",
              "  .colab-df-quickchart:hover {\n",
              "    background-color: var(--hover-bg-color);\n",
              "    box-shadow: 0 1px 2px rgba(60, 64, 67, 0.3), 0 1px 3px 1px rgba(60, 64, 67, 0.15);\n",
              "    fill: var(--button-hover-fill-color);\n",
              "  }\n",
              "\n",
              "  .colab-df-quickchart-complete:disabled,\n",
              "  .colab-df-quickchart-complete:disabled:hover {\n",
              "    background-color: var(--disabled-bg-color);\n",
              "    fill: var(--disabled-fill-color);\n",
              "    box-shadow: none;\n",
              "  }\n",
              "\n",
              "  .colab-df-spinner {\n",
              "    border: 2px solid var(--fill-color);\n",
              "    border-color: transparent;\n",
              "    border-bottom-color: var(--fill-color);\n",
              "    animation:\n",
              "      spin 1s steps(1) infinite;\n",
              "  }\n",
              "\n",
              "  @keyframes spin {\n",
              "    0% {\n",
              "      border-color: transparent;\n",
              "      border-bottom-color: var(--fill-color);\n",
              "      border-left-color: var(--fill-color);\n",
              "    }\n",
              "    20% {\n",
              "      border-color: transparent;\n",
              "      border-left-color: var(--fill-color);\n",
              "      border-top-color: var(--fill-color);\n",
              "    }\n",
              "    30% {\n",
              "      border-color: transparent;\n",
              "      border-left-color: var(--fill-color);\n",
              "      border-top-color: var(--fill-color);\n",
              "      border-right-color: var(--fill-color);\n",
              "    }\n",
              "    40% {\n",
              "      border-color: transparent;\n",
              "      border-right-color: var(--fill-color);\n",
              "      border-top-color: var(--fill-color);\n",
              "    }\n",
              "    60% {\n",
              "      border-color: transparent;\n",
              "      border-right-color: var(--fill-color);\n",
              "    }\n",
              "    80% {\n",
              "      border-color: transparent;\n",
              "      border-right-color: var(--fill-color);\n",
              "      border-bottom-color: var(--fill-color);\n",
              "    }\n",
              "    90% {\n",
              "      border-color: transparent;\n",
              "      border-bottom-color: var(--fill-color);\n",
              "    }\n",
              "  }\n",
              "</style>\n",
              "\n",
              "  <script>\n",
              "    async function quickchart(key) {\n",
              "      const quickchartButtonEl =\n",
              "        document.querySelector('#' + key + ' button');\n",
              "      quickchartButtonEl.disabled = true;  // To prevent multiple clicks.\n",
              "      quickchartButtonEl.classList.add('colab-df-spinner');\n",
              "      try {\n",
              "        const charts = await google.colab.kernel.invokeFunction(\n",
              "            'suggestCharts', [key], {});\n",
              "      } catch (error) {\n",
              "        console.error('Error during call to suggestCharts:', error);\n",
              "      }\n",
              "      quickchartButtonEl.classList.remove('colab-df-spinner');\n",
              "      quickchartButtonEl.classList.add('colab-df-quickchart-complete');\n",
              "    }\n",
              "    (() => {\n",
              "      let quickchartButtonEl =\n",
              "        document.querySelector('#df-1378ba59-152f-47a1-820b-635afb610c6a button');\n",
              "      quickchartButtonEl.style.display =\n",
              "        google.colab.kernel.accessAllowed ? 'block' : 'none';\n",
              "    })();\n",
              "  </script>\n",
              "</div>\n",
              "\n",
              "    </div>\n",
              "  </div>\n"
            ],
            "application/vnd.google.colaboratory.intrinsic+json": {
              "type": "dataframe",
              "summary": "{\n  \"name\": \"houses_corrupted\",\n  \"rows\": 8,\n  \"fields\": [\n    {\n      \"column\": \"median_house_value\",\n      \"properties\": {\n        \"dtype\": \"number\",\n        \"std\": 156160.28379826449,\n        \"min\": 14999.0,\n        \"max\": 500001.0,\n        \"num_unique_values\": 8,\n        \"samples\": [\n          206855.81690891474,\n          179700.0,\n          20640.0\n        ],\n        \"semantic_type\": \"\",\n        \"description\": \"\"\n      }\n    },\n    {\n      \"column\": \"median_income\",\n      \"properties\": {\n        \"dtype\": \"number\",\n        \"std\": 6565.972985292352,\n        \"min\": 0.4999,\n        \"max\": 18576.0,\n        \"num_unique_values\": 8,\n        \"samples\": [\n          3.929958484065461,\n          3.5724,\n          18576.0\n        ],\n        \"semantic_type\": \"\",\n        \"description\": \"\"\n      }\n    },\n    {\n      \"column\": \"housing_median_age\",\n      \"properties\": {\n        \"dtype\": \"number\",\n        \"std\": 6558.690730556797,\n        \"min\": 1.0,\n        \"max\": 18576.0,\n        \"num_unique_values\": 8,\n        \"samples\": [\n          28.324181739879414,\n          28.0,\n          18576.0\n        ],\n        \"semantic_type\": \"\",\n        \"description\": \"\"\n      }\n    },\n    {\n      \"column\": \"total_rooms\",\n      \"properties\": {\n        \"dtype\": \"number\",\n        \"std\": 13944.990983306392,\n        \"min\": 2.0,\n        \"max\": 39320.0,\n        \"num_unique_values\": 8,\n        \"samples\": [\n          2635.7630813953488,\n          2127.0,\n          20640.0\n        ],\n        \"semantic_type\": \"\",\n        \"description\": \"\"\n      }\n    },\n    {\n      \"column\": \"total_bedrooms\",\n      \"properties\": {\n        \"dtype\": \"number\",\n        \"std\": 7176.364332780706,\n        \"min\": 1.0,\n        \"max\": 20640.0,\n        \"num_unique_values\": 8,\n        \"samples\": [\n          537.8980135658915,\n          435.0,\n          20640.0\n        ],\n        \"semantic_type\": \"\",\n        \"description\": \"\"\n      }\n    },\n    {\n      \"column\": \"population\",\n      \"properties\": {\n        \"dtype\": \"number\",\n        \"std\": 12902.990881534364,\n        \"min\": 3.0,\n        \"max\": 35682.0,\n        \"num_unique_values\": 8,\n        \"samples\": [\n          1488.0692829457364,\n          1227.0,\n          18576.0\n        ],\n        \"semantic_type\": \"\",\n        \"description\": \"\"\n      }\n    },\n    {\n      \"column\": \"households\",\n      \"properties\": {\n        \"dtype\": \"number\",\n        \"std\": 7167.532601135343,\n        \"min\": 1.0,\n        \"max\": 20640.0,\n        \"num_unique_values\": 8,\n        \"samples\": [\n          499.5396802325581,\n          409.0,\n          20640.0\n        ],\n        \"semantic_type\": \"\",\n        \"description\": \"\"\n      }\n    },\n    {\n      \"column\": \"latitude\",\n      \"properties\": {\n        \"dtype\": \"number\",\n        \"std\": 7286.333552413666,\n        \"min\": 2.1359523974571117,\n        \"max\": 20640.0,\n        \"num_unique_values\": 8,\n        \"samples\": [\n          35.63186143410853,\n          34.26,\n          20640.0\n        ],\n        \"semantic_type\": \"\",\n        \"description\": \"\"\n      }\n    },\n    {\n      \"column\": \"longitude\",\n      \"properties\": {\n        \"dtype\": \"number\",\n        \"std\": 7333.554670164394,\n        \"min\": -124.35,\n        \"max\": 20640.0,\n        \"num_unique_values\": 8,\n        \"samples\": [\n          -119.56970445736432,\n          -118.49,\n          20640.0\n        ],\n        \"semantic_type\": \"\",\n        \"description\": \"\"\n      }\n    }\n  ]\n}"
            }
          },
          "metadata": {},
          "execution_count": 2
        }
      ]
    },
    {
      "cell_type": "markdown",
      "source": [],
      "metadata": {
        "id": "sDcthxE8b_ov"
      }
    },
    {
      "cell_type": "code",
      "source": [
        "# Assuming `houses_corrupted` is the DataFrame you want to calculate MAD for\n",
        "\n",
        "houses_corrupted.columns[:-1]\n",
        "\n",
        "# Initialize an empty DataFrame with the column names (only numerical columns)\n",
        "houses_MAD = pd.DataFrame(columns=houses_corrupted.columns[:-1])\n",
        "\n",
        "# List to store MAD values for each attribute\n",
        "mads = []\n",
        "\n",
        "# Calculate MAD for each numerical attribute in houses_corrupted\n",
        "for attribute in houses_corrupted.columns[:-1]:\n",
        "    mad = 1.483 * abs(houses_corrupted[attribute] - houses_corrupted[attribute].median()).median()\n",
        "    mads.append(mad)\n",
        "\n",
        "# Store the MAD values in the DataFrame\n",
        "houses_MAD.loc[0] = mads\n",
        "\n",
        "# Print the MAD values\n",
        "print(houses_MAD)\n"
      ],
      "metadata": {
        "id": "qPB8pcihCiUt"
      },
      "execution_count": null,
      "outputs": []
    },
    {
      "cell_type": "code",
      "source": [
        "houses_corrupted.corr()"
      ],
      "metadata": {
        "id": "GasH-Jwim9fS",
        "outputId": "c6cb169d-c1e7-4eb9-f0a4-f69350d1ebc7",
        "colab": {
          "base_uri": "https://localhost:8080/",
          "height": 331
        }
      },
      "execution_count": 3,
      "outputs": [
        {
          "output_type": "execute_result",
          "data": {
            "text/plain": [
              "                    median_house_value  median_income  housing_median_age  \\\n",
              "median_house_value            1.000000       0.694887            0.097929   \n",
              "median_income                 0.694887       1.000000           -0.120147   \n",
              "housing_median_age            0.097929      -0.120147            1.000000   \n",
              "total_rooms                   0.134153       0.198818           -0.372323   \n",
              "total_bedrooms                0.050594      -0.009499           -0.329757   \n",
              "population                   -0.027855       0.006298           -0.305052   \n",
              "households                    0.065843       0.012754           -0.312948   \n",
              "latitude                     -0.144160      -0.096861            0.011372   \n",
              "longitude                    -0.045967      -0.008902           -0.106438   \n",
              "\n",
              "                    total_rooms  total_bedrooms  population  households  \\\n",
              "median_house_value     0.134153        0.050594   -0.027855    0.065843   \n",
              "median_income          0.198818       -0.009499    0.006298    0.012754   \n",
              "housing_median_age    -0.372323       -0.329757   -0.305052   -0.312948   \n",
              "total_rooms            1.000000        0.929893    0.857515    0.918484   \n",
              "total_bedrooms         0.929893        1.000000    0.877178    0.979829   \n",
              "population             0.857515        0.877178    1.000000    0.907096   \n",
              "households             0.918484        0.979829    0.907096    1.000000   \n",
              "latitude              -0.036100       -0.066318   -0.107525   -0.071035   \n",
              "longitude              0.044568        0.068378    0.099797    0.055310   \n",
              "\n",
              "                    latitude  longitude  \n",
              "median_house_value -0.144160  -0.045967  \n",
              "median_income      -0.096861  -0.008902  \n",
              "housing_median_age  0.011372  -0.106438  \n",
              "total_rooms        -0.036100   0.044568  \n",
              "total_bedrooms     -0.066318   0.068378  \n",
              "population         -0.107525   0.099797  \n",
              "households         -0.071035   0.055310  \n",
              "latitude            1.000000  -0.924664  \n",
              "longitude          -0.924664   1.000000  "
            ],
            "text/html": [
              "\n",
              "  <div id=\"df-b81b1edb-e749-446d-b2a0-5cd98569321a\" class=\"colab-df-container\">\n",
              "    <div>\n",
              "<style scoped>\n",
              "    .dataframe tbody tr th:only-of-type {\n",
              "        vertical-align: middle;\n",
              "    }\n",
              "\n",
              "    .dataframe tbody tr th {\n",
              "        vertical-align: top;\n",
              "    }\n",
              "\n",
              "    .dataframe thead th {\n",
              "        text-align: right;\n",
              "    }\n",
              "</style>\n",
              "<table border=\"1\" class=\"dataframe\">\n",
              "  <thead>\n",
              "    <tr style=\"text-align: right;\">\n",
              "      <th></th>\n",
              "      <th>median_house_value</th>\n",
              "      <th>median_income</th>\n",
              "      <th>housing_median_age</th>\n",
              "      <th>total_rooms</th>\n",
              "      <th>total_bedrooms</th>\n",
              "      <th>population</th>\n",
              "      <th>households</th>\n",
              "      <th>latitude</th>\n",
              "      <th>longitude</th>\n",
              "    </tr>\n",
              "  </thead>\n",
              "  <tbody>\n",
              "    <tr>\n",
              "      <th>median_house_value</th>\n",
              "      <td>1.000000</td>\n",
              "      <td>0.694887</td>\n",
              "      <td>0.097929</td>\n",
              "      <td>0.134153</td>\n",
              "      <td>0.050594</td>\n",
              "      <td>-0.027855</td>\n",
              "      <td>0.065843</td>\n",
              "      <td>-0.144160</td>\n",
              "      <td>-0.045967</td>\n",
              "    </tr>\n",
              "    <tr>\n",
              "      <th>median_income</th>\n",
              "      <td>0.694887</td>\n",
              "      <td>1.000000</td>\n",
              "      <td>-0.120147</td>\n",
              "      <td>0.198818</td>\n",
              "      <td>-0.009499</td>\n",
              "      <td>0.006298</td>\n",
              "      <td>0.012754</td>\n",
              "      <td>-0.096861</td>\n",
              "      <td>-0.008902</td>\n",
              "    </tr>\n",
              "    <tr>\n",
              "      <th>housing_median_age</th>\n",
              "      <td>0.097929</td>\n",
              "      <td>-0.120147</td>\n",
              "      <td>1.000000</td>\n",
              "      <td>-0.372323</td>\n",
              "      <td>-0.329757</td>\n",
              "      <td>-0.305052</td>\n",
              "      <td>-0.312948</td>\n",
              "      <td>0.011372</td>\n",
              "      <td>-0.106438</td>\n",
              "    </tr>\n",
              "    <tr>\n",
              "      <th>total_rooms</th>\n",
              "      <td>0.134153</td>\n",
              "      <td>0.198818</td>\n",
              "      <td>-0.372323</td>\n",
              "      <td>1.000000</td>\n",
              "      <td>0.929893</td>\n",
              "      <td>0.857515</td>\n",
              "      <td>0.918484</td>\n",
              "      <td>-0.036100</td>\n",
              "      <td>0.044568</td>\n",
              "    </tr>\n",
              "    <tr>\n",
              "      <th>total_bedrooms</th>\n",
              "      <td>0.050594</td>\n",
              "      <td>-0.009499</td>\n",
              "      <td>-0.329757</td>\n",
              "      <td>0.929893</td>\n",
              "      <td>1.000000</td>\n",
              "      <td>0.877178</td>\n",
              "      <td>0.979829</td>\n",
              "      <td>-0.066318</td>\n",
              "      <td>0.068378</td>\n",
              "    </tr>\n",
              "    <tr>\n",
              "      <th>population</th>\n",
              "      <td>-0.027855</td>\n",
              "      <td>0.006298</td>\n",
              "      <td>-0.305052</td>\n",
              "      <td>0.857515</td>\n",
              "      <td>0.877178</td>\n",
              "      <td>1.000000</td>\n",
              "      <td>0.907096</td>\n",
              "      <td>-0.107525</td>\n",
              "      <td>0.099797</td>\n",
              "    </tr>\n",
              "    <tr>\n",
              "      <th>households</th>\n",
              "      <td>0.065843</td>\n",
              "      <td>0.012754</td>\n",
              "      <td>-0.312948</td>\n",
              "      <td>0.918484</td>\n",
              "      <td>0.979829</td>\n",
              "      <td>0.907096</td>\n",
              "      <td>1.000000</td>\n",
              "      <td>-0.071035</td>\n",
              "      <td>0.055310</td>\n",
              "    </tr>\n",
              "    <tr>\n",
              "      <th>latitude</th>\n",
              "      <td>-0.144160</td>\n",
              "      <td>-0.096861</td>\n",
              "      <td>0.011372</td>\n",
              "      <td>-0.036100</td>\n",
              "      <td>-0.066318</td>\n",
              "      <td>-0.107525</td>\n",
              "      <td>-0.071035</td>\n",
              "      <td>1.000000</td>\n",
              "      <td>-0.924664</td>\n",
              "    </tr>\n",
              "    <tr>\n",
              "      <th>longitude</th>\n",
              "      <td>-0.045967</td>\n",
              "      <td>-0.008902</td>\n",
              "      <td>-0.106438</td>\n",
              "      <td>0.044568</td>\n",
              "      <td>0.068378</td>\n",
              "      <td>0.099797</td>\n",
              "      <td>0.055310</td>\n",
              "      <td>-0.924664</td>\n",
              "      <td>1.000000</td>\n",
              "    </tr>\n",
              "  </tbody>\n",
              "</table>\n",
              "</div>\n",
              "    <div class=\"colab-df-buttons\">\n",
              "\n",
              "  <div class=\"colab-df-container\">\n",
              "    <button class=\"colab-df-convert\" onclick=\"convertToInteractive('df-b81b1edb-e749-446d-b2a0-5cd98569321a')\"\n",
              "            title=\"Convert this dataframe to an interactive table.\"\n",
              "            style=\"display:none;\">\n",
              "\n",
              "  <svg xmlns=\"http://www.w3.org/2000/svg\" height=\"24px\" viewBox=\"0 -960 960 960\">\n",
              "    <path d=\"M120-120v-720h720v720H120Zm60-500h600v-160H180v160Zm220 220h160v-160H400v160Zm0 220h160v-160H400v160ZM180-400h160v-160H180v160Zm440 0h160v-160H620v160ZM180-180h160v-160H180v160Zm440 0h160v-160H620v160Z\"/>\n",
              "  </svg>\n",
              "    </button>\n",
              "\n",
              "  <style>\n",
              "    .colab-df-container {\n",
              "      display:flex;\n",
              "      gap: 12px;\n",
              "    }\n",
              "\n",
              "    .colab-df-convert {\n",
              "      background-color: #E8F0FE;\n",
              "      border: none;\n",
              "      border-radius: 50%;\n",
              "      cursor: pointer;\n",
              "      display: none;\n",
              "      fill: #1967D2;\n",
              "      height: 32px;\n",
              "      padding: 0 0 0 0;\n",
              "      width: 32px;\n",
              "    }\n",
              "\n",
              "    .colab-df-convert:hover {\n",
              "      background-color: #E2EBFA;\n",
              "      box-shadow: 0px 1px 2px rgba(60, 64, 67, 0.3), 0px 1px 3px 1px rgba(60, 64, 67, 0.15);\n",
              "      fill: #174EA6;\n",
              "    }\n",
              "\n",
              "    .colab-df-buttons div {\n",
              "      margin-bottom: 4px;\n",
              "    }\n",
              "\n",
              "    [theme=dark] .colab-df-convert {\n",
              "      background-color: #3B4455;\n",
              "      fill: #D2E3FC;\n",
              "    }\n",
              "\n",
              "    [theme=dark] .colab-df-convert:hover {\n",
              "      background-color: #434B5C;\n",
              "      box-shadow: 0px 1px 3px 1px rgba(0, 0, 0, 0.15);\n",
              "      filter: drop-shadow(0px 1px 2px rgba(0, 0, 0, 0.3));\n",
              "      fill: #FFFFFF;\n",
              "    }\n",
              "  </style>\n",
              "\n",
              "    <script>\n",
              "      const buttonEl =\n",
              "        document.querySelector('#df-b81b1edb-e749-446d-b2a0-5cd98569321a button.colab-df-convert');\n",
              "      buttonEl.style.display =\n",
              "        google.colab.kernel.accessAllowed ? 'block' : 'none';\n",
              "\n",
              "      async function convertToInteractive(key) {\n",
              "        const element = document.querySelector('#df-b81b1edb-e749-446d-b2a0-5cd98569321a');\n",
              "        const dataTable =\n",
              "          await google.colab.kernel.invokeFunction('convertToInteractive',\n",
              "                                                    [key], {});\n",
              "        if (!dataTable) return;\n",
              "\n",
              "        const docLinkHtml = 'Like what you see? Visit the ' +\n",
              "          '<a target=\"_blank\" href=https://colab.research.google.com/notebooks/data_table.ipynb>data table notebook</a>'\n",
              "          + ' to learn more about interactive tables.';\n",
              "        element.innerHTML = '';\n",
              "        dataTable['output_type'] = 'display_data';\n",
              "        await google.colab.output.renderOutput(dataTable, element);\n",
              "        const docLink = document.createElement('div');\n",
              "        docLink.innerHTML = docLinkHtml;\n",
              "        element.appendChild(docLink);\n",
              "      }\n",
              "    </script>\n",
              "  </div>\n",
              "\n",
              "\n",
              "<div id=\"df-2bffba99-4fe8-4458-a992-d5e959e84fc0\">\n",
              "  <button class=\"colab-df-quickchart\" onclick=\"quickchart('df-2bffba99-4fe8-4458-a992-d5e959e84fc0')\"\n",
              "            title=\"Suggest charts\"\n",
              "            style=\"display:none;\">\n",
              "\n",
              "<svg xmlns=\"http://www.w3.org/2000/svg\" height=\"24px\"viewBox=\"0 0 24 24\"\n",
              "     width=\"24px\">\n",
              "    <g>\n",
              "        <path d=\"M19 3H5c-1.1 0-2 .9-2 2v14c0 1.1.9 2 2 2h14c1.1 0 2-.9 2-2V5c0-1.1-.9-2-2-2zM9 17H7v-7h2v7zm4 0h-2V7h2v10zm4 0h-2v-4h2v4z\"/>\n",
              "    </g>\n",
              "</svg>\n",
              "  </button>\n",
              "\n",
              "<style>\n",
              "  .colab-df-quickchart {\n",
              "      --bg-color: #E8F0FE;\n",
              "      --fill-color: #1967D2;\n",
              "      --hover-bg-color: #E2EBFA;\n",
              "      --hover-fill-color: #174EA6;\n",
              "      --disabled-fill-color: #AAA;\n",
              "      --disabled-bg-color: #DDD;\n",
              "  }\n",
              "\n",
              "  [theme=dark] .colab-df-quickchart {\n",
              "      --bg-color: #3B4455;\n",
              "      --fill-color: #D2E3FC;\n",
              "      --hover-bg-color: #434B5C;\n",
              "      --hover-fill-color: #FFFFFF;\n",
              "      --disabled-bg-color: #3B4455;\n",
              "      --disabled-fill-color: #666;\n",
              "  }\n",
              "\n",
              "  .colab-df-quickchart {\n",
              "    background-color: var(--bg-color);\n",
              "    border: none;\n",
              "    border-radius: 50%;\n",
              "    cursor: pointer;\n",
              "    display: none;\n",
              "    fill: var(--fill-color);\n",
              "    height: 32px;\n",
              "    padding: 0;\n",
              "    width: 32px;\n",
              "  }\n",
              "\n",
              "  .colab-df-quickchart:hover {\n",
              "    background-color: var(--hover-bg-color);\n",
              "    box-shadow: 0 1px 2px rgba(60, 64, 67, 0.3), 0 1px 3px 1px rgba(60, 64, 67, 0.15);\n",
              "    fill: var(--button-hover-fill-color);\n",
              "  }\n",
              "\n",
              "  .colab-df-quickchart-complete:disabled,\n",
              "  .colab-df-quickchart-complete:disabled:hover {\n",
              "    background-color: var(--disabled-bg-color);\n",
              "    fill: var(--disabled-fill-color);\n",
              "    box-shadow: none;\n",
              "  }\n",
              "\n",
              "  .colab-df-spinner {\n",
              "    border: 2px solid var(--fill-color);\n",
              "    border-color: transparent;\n",
              "    border-bottom-color: var(--fill-color);\n",
              "    animation:\n",
              "      spin 1s steps(1) infinite;\n",
              "  }\n",
              "\n",
              "  @keyframes spin {\n",
              "    0% {\n",
              "      border-color: transparent;\n",
              "      border-bottom-color: var(--fill-color);\n",
              "      border-left-color: var(--fill-color);\n",
              "    }\n",
              "    20% {\n",
              "      border-color: transparent;\n",
              "      border-left-color: var(--fill-color);\n",
              "      border-top-color: var(--fill-color);\n",
              "    }\n",
              "    30% {\n",
              "      border-color: transparent;\n",
              "      border-left-color: var(--fill-color);\n",
              "      border-top-color: var(--fill-color);\n",
              "      border-right-color: var(--fill-color);\n",
              "    }\n",
              "    40% {\n",
              "      border-color: transparent;\n",
              "      border-right-color: var(--fill-color);\n",
              "      border-top-color: var(--fill-color);\n",
              "    }\n",
              "    60% {\n",
              "      border-color: transparent;\n",
              "      border-right-color: var(--fill-color);\n",
              "    }\n",
              "    80% {\n",
              "      border-color: transparent;\n",
              "      border-right-color: var(--fill-color);\n",
              "      border-bottom-color: var(--fill-color);\n",
              "    }\n",
              "    90% {\n",
              "      border-color: transparent;\n",
              "      border-bottom-color: var(--fill-color);\n",
              "    }\n",
              "  }\n",
              "</style>\n",
              "\n",
              "  <script>\n",
              "    async function quickchart(key) {\n",
              "      const quickchartButtonEl =\n",
              "        document.querySelector('#' + key + ' button');\n",
              "      quickchartButtonEl.disabled = true;  // To prevent multiple clicks.\n",
              "      quickchartButtonEl.classList.add('colab-df-spinner');\n",
              "      try {\n",
              "        const charts = await google.colab.kernel.invokeFunction(\n",
              "            'suggestCharts', [key], {});\n",
              "      } catch (error) {\n",
              "        console.error('Error during call to suggestCharts:', error);\n",
              "      }\n",
              "      quickchartButtonEl.classList.remove('colab-df-spinner');\n",
              "      quickchartButtonEl.classList.add('colab-df-quickchart-complete');\n",
              "    }\n",
              "    (() => {\n",
              "      let quickchartButtonEl =\n",
              "        document.querySelector('#df-2bffba99-4fe8-4458-a992-d5e959e84fc0 button');\n",
              "      quickchartButtonEl.style.display =\n",
              "        google.colab.kernel.accessAllowed ? 'block' : 'none';\n",
              "    })();\n",
              "  </script>\n",
              "</div>\n",
              "\n",
              "    </div>\n",
              "  </div>\n"
            ],
            "application/vnd.google.colaboratory.intrinsic+json": {
              "type": "dataframe",
              "summary": "{\n  \"name\": \"houses_corrupted\",\n  \"rows\": 9,\n  \"fields\": [\n    {\n      \"column\": \"median_house_value\",\n      \"properties\": {\n        \"dtype\": \"number\",\n        \"std\": 0.38255399316672484,\n        \"min\": -0.14416027687465752,\n        \"max\": 1.0,\n        \"num_unique_values\": 9,\n        \"samples\": [\n          -0.14416027687465752,\n          0.6948874621191886,\n          -0.027855339420915958\n        ],\n        \"semantic_type\": \"\",\n        \"description\": \"\"\n      }\n    },\n    {\n      \"column\": \"median_income\",\n      \"properties\": {\n        \"dtype\": \"number\",\n        \"std\": 0.3927428099326603,\n        \"min\": -0.12014679533563892,\n        \"max\": 1.0,\n        \"num_unique_values\": 9,\n        \"samples\": [\n          -0.09686117348804023,\n          1.0,\n          0.006298115842534689\n        ],\n        \"semantic_type\": \"\",\n        \"description\": \"\"\n      }\n    },\n    {\n      \"column\": \"housing_median_age\",\n      \"properties\": {\n        \"dtype\": \"number\",\n        \"std\": 0.42611432202455396,\n        \"min\": -0.3723233270318012,\n        \"max\": 1.0,\n        \"num_unique_values\": 9,\n        \"samples\": [\n          0.011372118696642381,\n          -0.12014679533563892,\n          -0.3050522461987155\n        ],\n        \"semantic_type\": \"\",\n        \"description\": \"\"\n      }\n    },\n    {\n      \"column\": \"total_rooms\",\n      \"properties\": {\n        \"dtype\": \"number\",\n        \"std\": 0.5175006175237357,\n        \"min\": -0.3723233270318012,\n        \"max\": 1.0,\n        \"num_unique_values\": 9,\n        \"samples\": [\n          -0.03609959585612549,\n          0.19881821398695435,\n          0.8575154261579647\n        ],\n        \"semantic_type\": \"\",\n        \"description\": \"\"\n      }\n    },\n    {\n      \"column\": \"total_bedrooms\",\n      \"properties\": {\n        \"dtype\": \"number\",\n        \"std\": 0.5423708405723632,\n        \"min\": -0.3297569650484243,\n        \"max\": 1.0,\n        \"num_unique_values\": 9,\n        \"samples\": [\n          -0.06631840029001367,\n          -0.009499172888624438,\n          0.8771783142382904\n        ],\n        \"semantic_type\": \"\",\n        \"description\": \"\"\n      }\n    },\n    {\n      \"column\": \"population\",\n      \"properties\": {\n        \"dtype\": \"number\",\n        \"std\": 0.5276741666802099,\n        \"min\": -0.3050522461987155,\n        \"max\": 1.0,\n        \"num_unique_values\": 9,\n        \"samples\": [\n          -0.10752524396930992,\n          0.006298115842534689,\n          1.0\n        ],\n        \"semantic_type\": \"\",\n        \"description\": \"\"\n      }\n    },\n    {\n      \"column\": \"households\",\n      \"properties\": {\n        \"dtype\": \"number\",\n        \"std\": 0.5399715103317569,\n        \"min\": -0.3129483883836272,\n        \"max\": 1.0,\n        \"num_unique_values\": 9,\n        \"samples\": [\n          -0.07103543319190864,\n          0.012754199755049007,\n          0.9070960350013277\n        ],\n        \"semantic_type\": \"\",\n        \"description\": \"\"\n      }\n    },\n    {\n      \"column\": \"latitude\",\n      \"properties\": {\n        \"dtype\": \"number\",\n        \"std\": 0.4856121981699645,\n        \"min\": -0.9246644339150366,\n        \"max\": 1.0,\n        \"num_unique_values\": 9,\n        \"samples\": [\n          1.0,\n          -0.09686117348804023,\n          -0.10752524396930992\n        ],\n        \"semantic_type\": \"\",\n        \"description\": \"\"\n      }\n    },\n    {\n      \"column\": \"longitude\",\n      \"properties\": {\n        \"dtype\": \"number\",\n        \"std\": 0.4853506728073779,\n        \"min\": -0.9246644339150366,\n        \"max\": 1.0,\n        \"num_unique_values\": 9,\n        \"samples\": [\n          -0.9246644339150366,\n          -0.00890177971787561,\n          0.09979713292928905\n        ],\n        \"semantic_type\": \"\",\n        \"description\": \"\"\n      }\n    }\n  ]\n}"
            }
          },
          "metadata": {},
          "execution_count": 3
        }
      ]
    },
    {
      "cell_type": "code",
      "source": [
        "# Missing values per column\n",
        "missing_data = houses_corrupted.isnull().sum()\n",
        "missing_percentage = (missing_data / houses_corrupted.shape[0]) * 100\n",
        "missing_info = pd.DataFrame({'Missing Values': missing_data, 'Percentage': missing_percentage})\n",
        "print(missing_info)"
      ],
      "metadata": {
        "id": "JrfdbTMTeFMG",
        "outputId": "c011d2e2-af0c-49a6-8d2e-00c8e0dcf8ac",
        "colab": {
          "base_uri": "https://localhost:8080/"
        }
      },
      "execution_count": 4,
      "outputs": [
        {
          "output_type": "stream",
          "name": "stdout",
          "text": [
            "                    Missing Values  Percentage\n",
            "median_house_value               0         0.0\n",
            "median_income                 2064        10.0\n",
            "housing_median_age            2064        10.0\n",
            "total_rooms                      0         0.0\n",
            "total_bedrooms                   0         0.0\n",
            "population                    2064        10.0\n",
            "households                       0         0.0\n",
            "latitude                         0         0.0\n",
            "longitude                        0         0.0\n"
          ]
        }
      ]
    },
    {
      "cell_type": "code",
      "source": [
        "# Outlier Detection using IQR with accurate counting\n",
        "outliers = pd.DataFrame()\n",
        "outlier_counts = {}\n",
        "\n",
        "for column in houses_corrupted.select_dtypes(include=[np.number]).columns:\n",
        "    Q1 = houses_corrupted[column].quantile(0.25)\n",
        "    Q3 = houses_corrupted[column].quantile(0.75)\n",
        "    IQR = Q3 - Q1\n",
        "    lower_bound = Q1 - 1.5 * IQR\n",
        "    upper_bound = Q3 + 1.5 * IQR\n",
        "\n",
        "    # Remove NaNs before calculating outliers\n",
        "    column_data = houses_corrupted[column].dropna()\n",
        "    outliers[column] = column_data[(column_data < lower_bound) | (column_data > upper_bound)]\n",
        "\n",
        "    # Count the outliers for each column\n",
        "    outlier_counts[column] = outliers[column].notna().sum()\n",
        "\n",
        "# Print outlier counts for each column\n",
        "print(\"Outliers Count per Column:\")\n",
        "for column, count in outlier_counts.items():\n",
        "    print(f\"{column}: {count} outliers\")\n"
      ],
      "metadata": {
        "id": "2UB8I7DaoTny"
      },
      "execution_count": null,
      "outputs": []
    },
    {
      "cell_type": "code",
      "source": [
        "sns.boxplot(x=houses_corrupted['population'])"
      ],
      "metadata": {
        "id": "muDiRe8T9w1x"
      },
      "execution_count": null,
      "outputs": []
    },
    {
      "cell_type": "markdown",
      "source": [
        "### 2. Outlier Identification [10]\n",
        "- Utilise a statistical outlier detection approach (i.e., **no** KNN, LOF, 1Class SVM)\n",
        "- Utilise an algorithmic outlier detection method of your choice\n",
        "- Compare results and decide what to do with identified outleirs\n",
        "  - Include graphs, statistics, and written descriptions as appropriate\n",
        "- Explain what you are doing, and why your analysis is appropriate\n",
        "- Comment on benefits/detriments of statistical and algorithmic outlier detection approaches\n"
      ],
      "metadata": {
        "id": "CR74DAF_ZQUy"
      }
    },
    {
      "cell_type": "code",
      "source": [],
      "metadata": {
        "id": "jPsaKYCZZPkv"
      },
      "execution_count": null,
      "outputs": []
    },
    {
      "cell_type": "markdown",
      "source": [
        "### 3. Imputation [10]\n",
        "- Identify which features should be imputed and which should be removed\n",
        "  - Provide a written rationale for this decision\n",
        "- Impute the missing records using KNN imputation\n",
        "- Impute the missing records using MICE imputation\n",
        "- Compare both imputed datasets feature distributions against each other and the non-imputed data\n",
        "- Build a regressor on all thre datasets\n",
        "  - Use regression models to predict house median price\n",
        "  - Compare regressors of non-imputed data against imputed datas\n",
        "  - **Note**: If you're struggling to compare against the original dataset focus on comparing the two imputed datasets against each other\n"
      ],
      "metadata": {
        "id": "MOZ1nqTXZswr"
      }
    },
    {
      "cell_type": "code",
      "source": [
        "# Use this dataset for comparison against the imputed datasets\n",
        "houses = pd.read_csv('https://raw.githubusercontent.com/PaoloMissier/CSC3831-2021-22/main/IMPUTATION/TARGET-DATASETS/ORIGINAL/houses.csv', header=0)"
      ],
      "metadata": {
        "id": "JdfHAY07QCef"
      },
      "execution_count": null,
      "outputs": []
    },
    {
      "cell_type": "markdown",
      "source": [
        "### 4. Conclusions & Throughts [3]\n",
        "- Disucss methods used for anomaly detection, pros/cons of each method\n",
        "- Disucss challenges/difficulties in anomaly detection implementation\n",
        "- Discuss methods used for imputation, pros/cons of each method\n",
        "- Discuss challenges/difficulties in imputation implementation"
      ],
      "metadata": {
        "id": "NtLeRqcsQRpB"
      }
    },
    {
      "cell_type": "markdown",
      "source": [],
      "metadata": {
        "id": "7lrraskvQnKu"
      }
    }
  ]
}